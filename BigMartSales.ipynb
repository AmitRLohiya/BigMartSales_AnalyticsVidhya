{
 "cells": [
  {
   "cell_type": "code",
   "execution_count": 1,
   "metadata": {},
   "outputs": [],
   "source": [
    "import pandas as pd\n",
    "import matplotlib.pyplot as plt\n",
    "import numpy as np"
   ]
  },
  {
   "cell_type": "code",
   "execution_count": 2,
   "metadata": {},
   "outputs": [],
   "source": [
    "bigmarttrain = pd.read_csv('bigmart_train.csv')\n",
    "bigmarttest = pd.read_csv('bigmart_test.csv')"
   ]
  },
  {
   "cell_type": "code",
   "execution_count": 3,
   "metadata": {},
   "outputs": [
    {
     "data": {
      "text/html": [
       "<div>\n",
       "<style scoped>\n",
       "    .dataframe tbody tr th:only-of-type {\n",
       "        vertical-align: middle;\n",
       "    }\n",
       "\n",
       "    .dataframe tbody tr th {\n",
       "        vertical-align: top;\n",
       "    }\n",
       "\n",
       "    .dataframe thead th {\n",
       "        text-align: right;\n",
       "    }\n",
       "</style>\n",
       "<table border=\"1\" class=\"dataframe\">\n",
       "  <thead>\n",
       "    <tr style=\"text-align: right;\">\n",
       "      <th></th>\n",
       "      <th>Item_Identifier</th>\n",
       "      <th>Item_Weight</th>\n",
       "      <th>Item_Fat_Content</th>\n",
       "      <th>Item_Visibility</th>\n",
       "      <th>Item_Type</th>\n",
       "      <th>Item_MRP</th>\n",
       "      <th>Outlet_Identifier</th>\n",
       "      <th>Outlet_Establishment_Year</th>\n",
       "      <th>Outlet_Size</th>\n",
       "      <th>Outlet_Location_Type</th>\n",
       "      <th>Outlet_Type</th>\n",
       "      <th>Item_Outlet_Sales</th>\n",
       "    </tr>\n",
       "  </thead>\n",
       "  <tbody>\n",
       "    <tr>\n",
       "      <th>0</th>\n",
       "      <td>FDA15</td>\n",
       "      <td>9.30</td>\n",
       "      <td>Low Fat</td>\n",
       "      <td>0.016047</td>\n",
       "      <td>Dairy</td>\n",
       "      <td>249.8092</td>\n",
       "      <td>OUT049</td>\n",
       "      <td>1999</td>\n",
       "      <td>Medium</td>\n",
       "      <td>Tier 1</td>\n",
       "      <td>Supermarket Type1</td>\n",
       "      <td>3735.1380</td>\n",
       "    </tr>\n",
       "    <tr>\n",
       "      <th>1</th>\n",
       "      <td>DRC01</td>\n",
       "      <td>5.92</td>\n",
       "      <td>Regular</td>\n",
       "      <td>0.019278</td>\n",
       "      <td>Soft Drinks</td>\n",
       "      <td>48.2692</td>\n",
       "      <td>OUT018</td>\n",
       "      <td>2009</td>\n",
       "      <td>Medium</td>\n",
       "      <td>Tier 3</td>\n",
       "      <td>Supermarket Type2</td>\n",
       "      <td>443.4228</td>\n",
       "    </tr>\n",
       "    <tr>\n",
       "      <th>2</th>\n",
       "      <td>FDN15</td>\n",
       "      <td>17.50</td>\n",
       "      <td>Low Fat</td>\n",
       "      <td>0.016760</td>\n",
       "      <td>Meat</td>\n",
       "      <td>141.6180</td>\n",
       "      <td>OUT049</td>\n",
       "      <td>1999</td>\n",
       "      <td>Medium</td>\n",
       "      <td>Tier 1</td>\n",
       "      <td>Supermarket Type1</td>\n",
       "      <td>2097.2700</td>\n",
       "    </tr>\n",
       "    <tr>\n",
       "      <th>3</th>\n",
       "      <td>FDX07</td>\n",
       "      <td>19.20</td>\n",
       "      <td>Regular</td>\n",
       "      <td>0.000000</td>\n",
       "      <td>Fruits and Vegetables</td>\n",
       "      <td>182.0950</td>\n",
       "      <td>OUT010</td>\n",
       "      <td>1998</td>\n",
       "      <td>NaN</td>\n",
       "      <td>Tier 3</td>\n",
       "      <td>Grocery Store</td>\n",
       "      <td>732.3800</td>\n",
       "    </tr>\n",
       "    <tr>\n",
       "      <th>4</th>\n",
       "      <td>NCD19</td>\n",
       "      <td>8.93</td>\n",
       "      <td>Low Fat</td>\n",
       "      <td>0.000000</td>\n",
       "      <td>Household</td>\n",
       "      <td>53.8614</td>\n",
       "      <td>OUT013</td>\n",
       "      <td>1987</td>\n",
       "      <td>High</td>\n",
       "      <td>Tier 3</td>\n",
       "      <td>Supermarket Type1</td>\n",
       "      <td>994.7052</td>\n",
       "    </tr>\n",
       "  </tbody>\n",
       "</table>\n",
       "</div>"
      ],
      "text/plain": [
       "  Item_Identifier  Item_Weight Item_Fat_Content  Item_Visibility  \\\n",
       "0           FDA15         9.30          Low Fat         0.016047   \n",
       "1           DRC01         5.92          Regular         0.019278   \n",
       "2           FDN15        17.50          Low Fat         0.016760   \n",
       "3           FDX07        19.20          Regular         0.000000   \n",
       "4           NCD19         8.93          Low Fat         0.000000   \n",
       "\n",
       "               Item_Type  Item_MRP Outlet_Identifier  \\\n",
       "0                  Dairy  249.8092            OUT049   \n",
       "1            Soft Drinks   48.2692            OUT018   \n",
       "2                   Meat  141.6180            OUT049   \n",
       "3  Fruits and Vegetables  182.0950            OUT010   \n",
       "4              Household   53.8614            OUT013   \n",
       "\n",
       "   Outlet_Establishment_Year Outlet_Size Outlet_Location_Type  \\\n",
       "0                       1999      Medium               Tier 1   \n",
       "1                       2009      Medium               Tier 3   \n",
       "2                       1999      Medium               Tier 1   \n",
       "3                       1998         NaN               Tier 3   \n",
       "4                       1987        High               Tier 3   \n",
       "\n",
       "         Outlet_Type  Item_Outlet_Sales  \n",
       "0  Supermarket Type1          3735.1380  \n",
       "1  Supermarket Type2           443.4228  \n",
       "2  Supermarket Type1          2097.2700  \n",
       "3      Grocery Store           732.3800  \n",
       "4  Supermarket Type1           994.7052  "
      ]
     },
     "execution_count": 3,
     "metadata": {},
     "output_type": "execute_result"
    }
   ],
   "source": [
    "bigmarttrain.head()"
   ]
  },
  {
   "cell_type": "code",
   "execution_count": 4,
   "metadata": {},
   "outputs": [
    {
     "data": {
      "text/plain": [
       "(8523, 12)"
      ]
     },
     "execution_count": 4,
     "metadata": {},
     "output_type": "execute_result"
    }
   ],
   "source": [
    "bigmarttrain.shape"
   ]
  },
  {
   "cell_type": "code",
   "execution_count": 5,
   "metadata": {},
   "outputs": [
    {
     "data": {
      "text/plain": [
       "(5681, 11)"
      ]
     },
     "execution_count": 5,
     "metadata": {},
     "output_type": "execute_result"
    }
   ],
   "source": [
    "bigmarttest.shape"
   ]
  },
  {
   "cell_type": "code",
   "execution_count": 6,
   "metadata": {},
   "outputs": [
    {
     "name": "stdout",
     "output_type": "stream",
     "text": [
      "<class 'pandas.core.frame.DataFrame'>\n",
      "RangeIndex: 8523 entries, 0 to 8522\n",
      "Data columns (total 12 columns):\n",
      " #   Column                     Non-Null Count  Dtype  \n",
      "---  ------                     --------------  -----  \n",
      " 0   Item_Identifier            8523 non-null   object \n",
      " 1   Item_Weight                7060 non-null   float64\n",
      " 2   Item_Fat_Content           8523 non-null   object \n",
      " 3   Item_Visibility            8523 non-null   float64\n",
      " 4   Item_Type                  8523 non-null   object \n",
      " 5   Item_MRP                   8523 non-null   float64\n",
      " 6   Outlet_Identifier          8523 non-null   object \n",
      " 7   Outlet_Establishment_Year  8523 non-null   int64  \n",
      " 8   Outlet_Size                6113 non-null   object \n",
      " 9   Outlet_Location_Type       8523 non-null   object \n",
      " 10  Outlet_Type                8523 non-null   object \n",
      " 11  Item_Outlet_Sales          8523 non-null   float64\n",
      "dtypes: float64(4), int64(1), object(7)\n",
      "memory usage: 799.2+ KB\n"
     ]
    }
   ],
   "source": [
    "bigmarttrain.info()"
   ]
  },
  {
   "cell_type": "code",
   "execution_count": 7,
   "metadata": {},
   "outputs": [
    {
     "name": "stdout",
     "output_type": "stream",
     "text": [
      "<class 'pandas.core.frame.DataFrame'>\n",
      "RangeIndex: 5681 entries, 0 to 5680\n",
      "Data columns (total 11 columns):\n",
      " #   Column                     Non-Null Count  Dtype  \n",
      "---  ------                     --------------  -----  \n",
      " 0   Item_Identifier            5681 non-null   object \n",
      " 1   Item_Weight                4705 non-null   float64\n",
      " 2   Item_Fat_Content           5681 non-null   object \n",
      " 3   Item_Visibility            5681 non-null   float64\n",
      " 4   Item_Type                  5681 non-null   object \n",
      " 5   Item_MRP                   5681 non-null   float64\n",
      " 6   Outlet_Identifier          5681 non-null   object \n",
      " 7   Outlet_Establishment_Year  5681 non-null   int64  \n",
      " 8   Outlet_Size                4075 non-null   object \n",
      " 9   Outlet_Location_Type       5681 non-null   object \n",
      " 10  Outlet_Type                5681 non-null   object \n",
      "dtypes: float64(3), int64(1), object(7)\n",
      "memory usage: 488.3+ KB\n"
     ]
    }
   ],
   "source": [
    "bigmarttest.info()"
   ]
  },
  {
   "cell_type": "code",
   "execution_count": 8,
   "metadata": {},
   "outputs": [
    {
     "data": {
      "text/plain": [
       "Item_Identifier                 0\n",
       "Item_Weight                  1463\n",
       "Item_Fat_Content                0\n",
       "Item_Visibility                 0\n",
       "Item_Type                       0\n",
       "Item_MRP                        0\n",
       "Outlet_Identifier               0\n",
       "Outlet_Establishment_Year       0\n",
       "Outlet_Size                  2410\n",
       "Outlet_Location_Type            0\n",
       "Outlet_Type                     0\n",
       "Item_Outlet_Sales               0\n",
       "dtype: int64"
      ]
     },
     "execution_count": 8,
     "metadata": {},
     "output_type": "execute_result"
    }
   ],
   "source": [
    "bigmarttrain.isnull().sum()"
   ]
  },
  {
   "cell_type": "code",
   "execution_count": 9,
   "metadata": {},
   "outputs": [
    {
     "data": {
      "text/plain": [
       "Item_Identifier                 0\n",
       "Item_Weight                   976\n",
       "Item_Fat_Content                0\n",
       "Item_Visibility                 0\n",
       "Item_Type                       0\n",
       "Item_MRP                        0\n",
       "Outlet_Identifier               0\n",
       "Outlet_Establishment_Year       0\n",
       "Outlet_Size                  1606\n",
       "Outlet_Location_Type            0\n",
       "Outlet_Type                     0\n",
       "dtype: int64"
      ]
     },
     "execution_count": 9,
     "metadata": {},
     "output_type": "execute_result"
    }
   ],
   "source": [
    "bigmarttest.isnull().sum()\n",
    "#Item_Weight is Numeric\n",
    "#Outlet_Size is Object"
   ]
  },
  {
   "cell_type": "code",
   "execution_count": 10,
   "metadata": {},
   "outputs": [],
   "source": [
    "bigmarttrain1 = bigmarttrain.drop('Item_Outlet_Sales', axis = 1)"
   ]
  },
  {
   "cell_type": "code",
   "execution_count": 11,
   "metadata": {},
   "outputs": [],
   "source": [
    "bigmarttrain1['Type'] = 'Train'\n",
    "bigmarttest['Type'] = 'Test'"
   ]
  },
  {
   "cell_type": "code",
   "execution_count": 12,
   "metadata": {},
   "outputs": [],
   "source": [
    "#Both Train and Test data have Missing Values in Same cols\n",
    "\n",
    "combinedata = pd.concat([bigmarttrain1, bigmarttest], axis = 0)\n"
   ]
  },
  {
   "cell_type": "code",
   "execution_count": 13,
   "metadata": {},
   "outputs": [
    {
     "data": {
      "text/html": [
       "<div>\n",
       "<style scoped>\n",
       "    .dataframe tbody tr th:only-of-type {\n",
       "        vertical-align: middle;\n",
       "    }\n",
       "\n",
       "    .dataframe tbody tr th {\n",
       "        vertical-align: top;\n",
       "    }\n",
       "\n",
       "    .dataframe thead th {\n",
       "        text-align: right;\n",
       "    }\n",
       "</style>\n",
       "<table border=\"1\" class=\"dataframe\">\n",
       "  <thead>\n",
       "    <tr style=\"text-align: right;\">\n",
       "      <th></th>\n",
       "      <th>Item_Identifier</th>\n",
       "      <th>Item_Weight</th>\n",
       "      <th>Item_Fat_Content</th>\n",
       "      <th>Item_Visibility</th>\n",
       "      <th>Item_Type</th>\n",
       "      <th>Item_MRP</th>\n",
       "      <th>Outlet_Identifier</th>\n",
       "      <th>Outlet_Establishment_Year</th>\n",
       "      <th>Outlet_Size</th>\n",
       "      <th>Outlet_Location_Type</th>\n",
       "      <th>Outlet_Type</th>\n",
       "      <th>Type</th>\n",
       "    </tr>\n",
       "  </thead>\n",
       "  <tbody>\n",
       "    <tr>\n",
       "      <th>0</th>\n",
       "      <td>FDA15</td>\n",
       "      <td>9.30</td>\n",
       "      <td>Low Fat</td>\n",
       "      <td>0.016047</td>\n",
       "      <td>Dairy</td>\n",
       "      <td>249.8092</td>\n",
       "      <td>OUT049</td>\n",
       "      <td>1999</td>\n",
       "      <td>Medium</td>\n",
       "      <td>Tier 1</td>\n",
       "      <td>Supermarket Type1</td>\n",
       "      <td>Train</td>\n",
       "    </tr>\n",
       "    <tr>\n",
       "      <th>1</th>\n",
       "      <td>DRC01</td>\n",
       "      <td>5.92</td>\n",
       "      <td>Regular</td>\n",
       "      <td>0.019278</td>\n",
       "      <td>Soft Drinks</td>\n",
       "      <td>48.2692</td>\n",
       "      <td>OUT018</td>\n",
       "      <td>2009</td>\n",
       "      <td>Medium</td>\n",
       "      <td>Tier 3</td>\n",
       "      <td>Supermarket Type2</td>\n",
       "      <td>Train</td>\n",
       "    </tr>\n",
       "    <tr>\n",
       "      <th>2</th>\n",
       "      <td>FDN15</td>\n",
       "      <td>17.50</td>\n",
       "      <td>Low Fat</td>\n",
       "      <td>0.016760</td>\n",
       "      <td>Meat</td>\n",
       "      <td>141.6180</td>\n",
       "      <td>OUT049</td>\n",
       "      <td>1999</td>\n",
       "      <td>Medium</td>\n",
       "      <td>Tier 1</td>\n",
       "      <td>Supermarket Type1</td>\n",
       "      <td>Train</td>\n",
       "    </tr>\n",
       "    <tr>\n",
       "      <th>3</th>\n",
       "      <td>FDX07</td>\n",
       "      <td>19.20</td>\n",
       "      <td>Regular</td>\n",
       "      <td>0.000000</td>\n",
       "      <td>Fruits and Vegetables</td>\n",
       "      <td>182.0950</td>\n",
       "      <td>OUT010</td>\n",
       "      <td>1998</td>\n",
       "      <td>NaN</td>\n",
       "      <td>Tier 3</td>\n",
       "      <td>Grocery Store</td>\n",
       "      <td>Train</td>\n",
       "    </tr>\n",
       "    <tr>\n",
       "      <th>4</th>\n",
       "      <td>NCD19</td>\n",
       "      <td>8.93</td>\n",
       "      <td>Low Fat</td>\n",
       "      <td>0.000000</td>\n",
       "      <td>Household</td>\n",
       "      <td>53.8614</td>\n",
       "      <td>OUT013</td>\n",
       "      <td>1987</td>\n",
       "      <td>High</td>\n",
       "      <td>Tier 3</td>\n",
       "      <td>Supermarket Type1</td>\n",
       "      <td>Train</td>\n",
       "    </tr>\n",
       "  </tbody>\n",
       "</table>\n",
       "</div>"
      ],
      "text/plain": [
       "  Item_Identifier  Item_Weight Item_Fat_Content  Item_Visibility  \\\n",
       "0           FDA15         9.30          Low Fat         0.016047   \n",
       "1           DRC01         5.92          Regular         0.019278   \n",
       "2           FDN15        17.50          Low Fat         0.016760   \n",
       "3           FDX07        19.20          Regular         0.000000   \n",
       "4           NCD19         8.93          Low Fat         0.000000   \n",
       "\n",
       "               Item_Type  Item_MRP Outlet_Identifier  \\\n",
       "0                  Dairy  249.8092            OUT049   \n",
       "1            Soft Drinks   48.2692            OUT018   \n",
       "2                   Meat  141.6180            OUT049   \n",
       "3  Fruits and Vegetables  182.0950            OUT010   \n",
       "4              Household   53.8614            OUT013   \n",
       "\n",
       "   Outlet_Establishment_Year Outlet_Size Outlet_Location_Type  \\\n",
       "0                       1999      Medium               Tier 1   \n",
       "1                       2009      Medium               Tier 3   \n",
       "2                       1999      Medium               Tier 1   \n",
       "3                       1998         NaN               Tier 3   \n",
       "4                       1987        High               Tier 3   \n",
       "\n",
       "         Outlet_Type   Type  \n",
       "0  Supermarket Type1  Train  \n",
       "1  Supermarket Type2  Train  \n",
       "2  Supermarket Type1  Train  \n",
       "3      Grocery Store  Train  \n",
       "4  Supermarket Type1  Train  "
      ]
     },
     "execution_count": 13,
     "metadata": {},
     "output_type": "execute_result"
    }
   ],
   "source": [
    "combinedata.head()"
   ]
  },
  {
   "cell_type": "code",
   "execution_count": 14,
   "metadata": {},
   "outputs": [
    {
     "data": {
      "text/plain": [
       "(14204, 12)"
      ]
     },
     "execution_count": 14,
     "metadata": {},
     "output_type": "execute_result"
    }
   ],
   "source": [
    "combinedata.shape"
   ]
  },
  {
   "cell_type": "code",
   "execution_count": 15,
   "metadata": {},
   "outputs": [
    {
     "data": {
      "text/plain": [
       "Outlet_Size                  4016\n",
       "Item_Weight                  2439\n",
       "Type                            0\n",
       "Outlet_Type                     0\n",
       "Outlet_Location_Type            0\n",
       "Outlet_Establishment_Year       0\n",
       "Outlet_Identifier               0\n",
       "Item_MRP                        0\n",
       "Item_Type                       0\n",
       "Item_Visibility                 0\n",
       "Item_Fat_Content                0\n",
       "Item_Identifier                 0\n",
       "dtype: int64"
      ]
     },
     "execution_count": 15,
     "metadata": {},
     "output_type": "execute_result"
    }
   ],
   "source": [
    "combinedata.isnull().sum().sort_values(ascending = False)"
   ]
  },
  {
   "cell_type": "code",
   "execution_count": 16,
   "metadata": {},
   "outputs": [
    {
     "name": "stdout",
     "output_type": "stream",
     "text": [
      "28.273725711067303\n",
      "17.17121937482399\n"
     ]
    }
   ],
   "source": [
    "#percentage of Missing Data\n",
    "print((4016/14204)*100) #Outlet_Size\n",
    "print((2439/14204)*100) #Item_Weight"
   ]
  },
  {
   "cell_type": "code",
   "execution_count": 17,
   "metadata": {},
   "outputs": [],
   "source": [
    "#Splitting Combine Data into Object and Numeric Data\n",
    "objectdata = combinedata.select_dtypes(include=np.object)\n",
    "numericdata = combinedata.select_dtypes(include = np.number)"
   ]
  },
  {
   "cell_type": "code",
   "execution_count": 18,
   "metadata": {},
   "outputs": [
    {
     "name": "stdout",
     "output_type": "stream",
     "text": [
      "(14204, 4)\n",
      "(14204, 8)\n"
     ]
    }
   ],
   "source": [
    "print(numericdata.shape)\n",
    "print(objectdata.shape)"
   ]
  },
  {
   "cell_type": "code",
   "execution_count": 19,
   "metadata": {},
   "outputs": [
    {
     "data": {
      "text/plain": [
       "count    11765.000000\n",
       "mean        12.792854\n",
       "std          4.652502\n",
       "min          4.555000\n",
       "25%          8.710000\n",
       "50%         12.600000\n",
       "75%         16.750000\n",
       "max         21.350000\n",
       "Name: Item_Weight, dtype: float64"
      ]
     },
     "execution_count": 19,
     "metadata": {},
     "output_type": "execute_result"
    }
   ],
   "source": [
    "numericdata.Item_Weight.describe()\n",
    "#mean  -  12.792854 and Median/50%    - 12.600000"
   ]
  },
  {
   "cell_type": "code",
   "execution_count": 20,
   "metadata": {},
   "outputs": [],
   "source": [
    "from sklearn.impute import SimpleImputer\n",
    "numericimputer = SimpleImputer(missing_values=np.nan , strategy = 'median')"
   ]
  },
  {
   "cell_type": "code",
   "execution_count": 21,
   "metadata": {},
   "outputs": [],
   "source": [
    "numericdatadf = numericimputer.fit_transform(numericdata)"
   ]
  },
  {
   "cell_type": "code",
   "execution_count": 22,
   "metadata": {},
   "outputs": [],
   "source": [
    "numlabels = numericdata.columns"
   ]
  },
  {
   "cell_type": "code",
   "execution_count": 23,
   "metadata": {},
   "outputs": [],
   "source": [
    "numericdatadf = pd.DataFrame(numericdatadf, columns = numlabels)"
   ]
  },
  {
   "cell_type": "code",
   "execution_count": 24,
   "metadata": {},
   "outputs": [
    {
     "data": {
      "text/html": [
       "<div>\n",
       "<style scoped>\n",
       "    .dataframe tbody tr th:only-of-type {\n",
       "        vertical-align: middle;\n",
       "    }\n",
       "\n",
       "    .dataframe tbody tr th {\n",
       "        vertical-align: top;\n",
       "    }\n",
       "\n",
       "    .dataframe thead th {\n",
       "        text-align: right;\n",
       "    }\n",
       "</style>\n",
       "<table border=\"1\" class=\"dataframe\">\n",
       "  <thead>\n",
       "    <tr style=\"text-align: right;\">\n",
       "      <th></th>\n",
       "      <th>Item_Weight</th>\n",
       "      <th>Item_Visibility</th>\n",
       "      <th>Item_MRP</th>\n",
       "      <th>Outlet_Establishment_Year</th>\n",
       "    </tr>\n",
       "  </thead>\n",
       "  <tbody>\n",
       "    <tr>\n",
       "      <th>0</th>\n",
       "      <td>9.30</td>\n",
       "      <td>0.016047</td>\n",
       "      <td>249.8092</td>\n",
       "      <td>1999.0</td>\n",
       "    </tr>\n",
       "    <tr>\n",
       "      <th>1</th>\n",
       "      <td>5.92</td>\n",
       "      <td>0.019278</td>\n",
       "      <td>48.2692</td>\n",
       "      <td>2009.0</td>\n",
       "    </tr>\n",
       "    <tr>\n",
       "      <th>2</th>\n",
       "      <td>17.50</td>\n",
       "      <td>0.016760</td>\n",
       "      <td>141.6180</td>\n",
       "      <td>1999.0</td>\n",
       "    </tr>\n",
       "    <tr>\n",
       "      <th>3</th>\n",
       "      <td>19.20</td>\n",
       "      <td>0.000000</td>\n",
       "      <td>182.0950</td>\n",
       "      <td>1998.0</td>\n",
       "    </tr>\n",
       "    <tr>\n",
       "      <th>4</th>\n",
       "      <td>8.93</td>\n",
       "      <td>0.000000</td>\n",
       "      <td>53.8614</td>\n",
       "      <td>1987.0</td>\n",
       "    </tr>\n",
       "  </tbody>\n",
       "</table>\n",
       "</div>"
      ],
      "text/plain": [
       "   Item_Weight  Item_Visibility  Item_MRP  Outlet_Establishment_Year\n",
       "0         9.30         0.016047  249.8092                     1999.0\n",
       "1         5.92         0.019278   48.2692                     2009.0\n",
       "2        17.50         0.016760  141.6180                     1999.0\n",
       "3        19.20         0.000000  182.0950                     1998.0\n",
       "4         8.93         0.000000   53.8614                     1987.0"
      ]
     },
     "execution_count": 24,
     "metadata": {},
     "output_type": "execute_result"
    }
   ],
   "source": [
    "numericdatadf.head()"
   ]
  },
  {
   "cell_type": "code",
   "execution_count": 25,
   "metadata": {},
   "outputs": [],
   "source": [
    "#Treating Missing Values in Objectdata\n"
   ]
  },
  {
   "cell_type": "code",
   "execution_count": 26,
   "metadata": {},
   "outputs": [
    {
     "data": {
      "text/html": [
       "<div>\n",
       "<style scoped>\n",
       "    .dataframe tbody tr th:only-of-type {\n",
       "        vertical-align: middle;\n",
       "    }\n",
       "\n",
       "    .dataframe tbody tr th {\n",
       "        vertical-align: top;\n",
       "    }\n",
       "\n",
       "    .dataframe thead th {\n",
       "        text-align: right;\n",
       "    }\n",
       "</style>\n",
       "<table border=\"1\" class=\"dataframe\">\n",
       "  <thead>\n",
       "    <tr style=\"text-align: right;\">\n",
       "      <th></th>\n",
       "      <th>Item_Identifier</th>\n",
       "      <th>Item_Fat_Content</th>\n",
       "      <th>Item_Type</th>\n",
       "      <th>Outlet_Identifier</th>\n",
       "      <th>Outlet_Size</th>\n",
       "      <th>Outlet_Location_Type</th>\n",
       "      <th>Outlet_Type</th>\n",
       "      <th>Type</th>\n",
       "    </tr>\n",
       "  </thead>\n",
       "  <tbody>\n",
       "    <tr>\n",
       "      <th>0</th>\n",
       "      <td>FDA15</td>\n",
       "      <td>Low Fat</td>\n",
       "      <td>Dairy</td>\n",
       "      <td>OUT049</td>\n",
       "      <td>Medium</td>\n",
       "      <td>Tier 1</td>\n",
       "      <td>Supermarket Type1</td>\n",
       "      <td>Train</td>\n",
       "    </tr>\n",
       "    <tr>\n",
       "      <th>1</th>\n",
       "      <td>DRC01</td>\n",
       "      <td>Regular</td>\n",
       "      <td>Soft Drinks</td>\n",
       "      <td>OUT018</td>\n",
       "      <td>Medium</td>\n",
       "      <td>Tier 3</td>\n",
       "      <td>Supermarket Type2</td>\n",
       "      <td>Train</td>\n",
       "    </tr>\n",
       "    <tr>\n",
       "      <th>2</th>\n",
       "      <td>FDN15</td>\n",
       "      <td>Low Fat</td>\n",
       "      <td>Meat</td>\n",
       "      <td>OUT049</td>\n",
       "      <td>Medium</td>\n",
       "      <td>Tier 1</td>\n",
       "      <td>Supermarket Type1</td>\n",
       "      <td>Train</td>\n",
       "    </tr>\n",
       "    <tr>\n",
       "      <th>3</th>\n",
       "      <td>FDX07</td>\n",
       "      <td>Regular</td>\n",
       "      <td>Fruits and Vegetables</td>\n",
       "      <td>OUT010</td>\n",
       "      <td>NaN</td>\n",
       "      <td>Tier 3</td>\n",
       "      <td>Grocery Store</td>\n",
       "      <td>Train</td>\n",
       "    </tr>\n",
       "    <tr>\n",
       "      <th>4</th>\n",
       "      <td>NCD19</td>\n",
       "      <td>Low Fat</td>\n",
       "      <td>Household</td>\n",
       "      <td>OUT013</td>\n",
       "      <td>High</td>\n",
       "      <td>Tier 3</td>\n",
       "      <td>Supermarket Type1</td>\n",
       "      <td>Train</td>\n",
       "    </tr>\n",
       "  </tbody>\n",
       "</table>\n",
       "</div>"
      ],
      "text/plain": [
       "  Item_Identifier Item_Fat_Content              Item_Type Outlet_Identifier  \\\n",
       "0           FDA15          Low Fat                  Dairy            OUT049   \n",
       "1           DRC01          Regular            Soft Drinks            OUT018   \n",
       "2           FDN15          Low Fat                   Meat            OUT049   \n",
       "3           FDX07          Regular  Fruits and Vegetables            OUT010   \n",
       "4           NCD19          Low Fat              Household            OUT013   \n",
       "\n",
       "  Outlet_Size Outlet_Location_Type        Outlet_Type   Type  \n",
       "0      Medium               Tier 1  Supermarket Type1  Train  \n",
       "1      Medium               Tier 3  Supermarket Type2  Train  \n",
       "2      Medium               Tier 1  Supermarket Type1  Train  \n",
       "3         NaN               Tier 3      Grocery Store  Train  \n",
       "4        High               Tier 3  Supermarket Type1  Train  "
      ]
     },
     "execution_count": 26,
     "metadata": {},
     "output_type": "execute_result"
    }
   ],
   "source": [
    "objectdata.head()"
   ]
  },
  {
   "cell_type": "code",
   "execution_count": 27,
   "metadata": {},
   "outputs": [
    {
     "data": {
      "text/plain": [
       "Medium    4655\n",
       "Small     3980\n",
       "High      1553\n",
       "Name: Outlet_Size, dtype: int64"
      ]
     },
     "execution_count": 27,
     "metadata": {},
     "output_type": "execute_result"
    }
   ],
   "source": [
    "objectdata.Outlet_Size.value_counts()#If we use Simple Imputer with mostfrequent it will Create a larger diff \n",
    "                                     #between Value counts of Medium and Small \n",
    "                                     #as it is now 700 it will be increased with 4016(NA values in Outlet_Size) \n",
    "                                     #if we impute using most frequent"
   ]
  },
  {
   "cell_type": "code",
   "execution_count": 28,
   "metadata": {},
   "outputs": [],
   "source": [
    "objectdatadf = objectdata.fillna('unknown')"
   ]
  },
  {
   "cell_type": "code",
   "execution_count": 29,
   "metadata": {},
   "outputs": [
    {
     "data": {
      "text/plain": [
       "Medium     4655\n",
       "unknown    4016\n",
       "Small      3980\n",
       "High       1553\n",
       "Name: Outlet_Size, dtype: int64"
      ]
     },
     "execution_count": 29,
     "metadata": {},
     "output_type": "execute_result"
    }
   ],
   "source": [
    "objectdatadf.Outlet_Size.value_counts()"
   ]
  },
  {
   "cell_type": "code",
   "execution_count": 30,
   "metadata": {},
   "outputs": [
    {
     "data": {
      "text/plain": [
       "Index(['Item_Identifier', 'Item_Fat_Content', 'Item_Type', 'Outlet_Identifier',\n",
       "       'Outlet_Size', 'Outlet_Location_Type', 'Outlet_Type', 'Type'],\n",
       "      dtype='object')"
      ]
     },
     "execution_count": 30,
     "metadata": {},
     "output_type": "execute_result"
    }
   ],
   "source": [
    "objectdatadf.columns"
   ]
  },
  {
   "cell_type": "code",
   "execution_count": 31,
   "metadata": {},
   "outputs": [],
   "source": [
    "freqcols = ['Item_Fat_Content', 'Item_Type','Outlet_Size', 'Outlet_Location_Type', 'Outlet_Type']"
   ]
  },
  {
   "cell_type": "code",
   "execution_count": 32,
   "metadata": {},
   "outputs": [
    {
     "name": "stdout",
     "output_type": "stream",
     "text": [
      "Column - Item_Fat_Content\n",
      "Low Fat    8485\n",
      "Regular    4824\n",
      "LF          522\n",
      "reg         195\n",
      "low fat     178\n",
      "Name: Item_Fat_Content, dtype: int64 \n",
      "\n",
      "Column - Item_Type\n",
      "Fruits and Vegetables    2013\n",
      "Snack Foods              1989\n",
      "Household                1548\n",
      "Frozen Foods             1426\n",
      "Dairy                    1136\n",
      "Baking Goods             1086\n",
      "Canned                   1084\n",
      "Health and Hygiene        858\n",
      "Meat                      736\n",
      "Soft Drinks               726\n",
      "Breads                    416\n",
      "Hard Drinks               362\n",
      "Others                    280\n",
      "Starchy Foods             269\n",
      "Breakfast                 186\n",
      "Seafood                    89\n",
      "Name: Item_Type, dtype: int64 \n",
      "\n",
      "Column - Outlet_Size\n",
      "Medium     4655\n",
      "unknown    4016\n",
      "Small      3980\n",
      "High       1553\n",
      "Name: Outlet_Size, dtype: int64 \n",
      "\n",
      "Column - Outlet_Location_Type\n",
      "Tier 3    5583\n",
      "Tier 2    4641\n",
      "Tier 1    3980\n",
      "Name: Outlet_Location_Type, dtype: int64 \n",
      "\n",
      "Column - Outlet_Type\n",
      "Supermarket Type1    9294\n",
      "Grocery Store        1805\n",
      "Supermarket Type3    1559\n",
      "Supermarket Type2    1546\n",
      "Name: Outlet_Type, dtype: int64 \n",
      "\n"
     ]
    }
   ],
   "source": [
    "for col in freqcols:\n",
    "    print(\"Column -\",col)\n",
    "    print(objectdatadf[col].value_counts(),'\\n')"
   ]
  },
  {
   "cell_type": "code",
   "execution_count": 33,
   "metadata": {},
   "outputs": [
    {
     "data": {
      "text/plain": [
       "<matplotlib.axes._subplots.AxesSubplot at 0x1bf8ae2f6a0>"
      ]
     },
     "execution_count": 33,
     "metadata": {},
     "output_type": "execute_result"
    },
    {
     "data": {
      "image/png": "[encoded data removed]",
      "text/plain": [
       "<Figure size 1008x504 with 1 Axes>"
      ]
     },
     "metadata": {
      "needs_background": "light"
     },
     "output_type": "display_data"
    }
   ],
   "source": [
    "import seaborn as sns\n",
    "plt.figure(figsize = (14,7))\n",
    "sns.countplot(objectdatadf.Item_Fat_Content)"
   ]
  },
  {
   "cell_type": "code",
   "execution_count": 34,
   "metadata": {},
   "outputs": [],
   "source": [
    "#Correct the repeatation of Classes in Item_Fat_Content\n",
    "objectdatadf['Item_Fat_Content'] = objectdatadf['Item_Fat_Content'].replace(['LF','low fat'],'Low Fat')"
   ]
  },
  {
   "cell_type": "code",
   "execution_count": 35,
   "metadata": {},
   "outputs": [],
   "source": [
    "objectdatadf['Item_Fat_Content'] = objectdatadf['Item_Fat_Content'].replace(['reg'],'Regular')"
   ]
  },
  {
   "cell_type": "code",
   "execution_count": 36,
   "metadata": {},
   "outputs": [
    {
     "data": {
      "text/plain": [
       "Low Fat    9185\n",
       "Regular    5019\n",
       "Name: Item_Fat_Content, dtype: int64"
      ]
     },
     "execution_count": 36,
     "metadata": {},
     "output_type": "execute_result"
    }
   ],
   "source": [
    "objectdatadf.Item_Fat_Content.value_counts()#LF, low fat - Low Fat\n",
    "                                            #reg - Regular Corrections done"
   ]
  },
  {
   "cell_type": "code",
   "execution_count": 37,
   "metadata": {},
   "outputs": [
    {
     "data": {
      "text/plain": [
       "<matplotlib.axes._subplots.AxesSubplot at 0x1bf8ba12790>"
      ]
     },
     "execution_count": 37,
     "metadata": {},
     "output_type": "execute_result"
    },
    {
     "data": {
      "image/png": "[encoded data removed]",
      "text/plain": [
       "<Figure size 432x288 with 1 Axes>"
      ]
     },
     "metadata": {
      "needs_background": "light"
     },
     "output_type": "display_data"
    }
   ],
   "source": [
    "#plt.figure(figsize = (14,7))\n",
    "sns.countplot(objectdatadf.Item_Fat_Content)"
   ]
  },
  {
   "cell_type": "code",
   "execution_count": 38,
   "metadata": {},
   "outputs": [
    {
     "data": {
      "text/plain": [
       "0    FDA15\n",
       "1    DRC01\n",
       "2    FDN15\n",
       "3    FDX07\n",
       "4    NCD19\n",
       "5    FDP36\n",
       "6    FDO10\n",
       "7    FDP10\n",
       "8    FDH17\n",
       "9    FDU28\n",
       "Name: Item_Identifier, dtype: object"
      ]
     },
     "execution_count": 38,
     "metadata": {},
     "output_type": "execute_result"
    }
   ],
   "source": [
    "objectdatadf.Item_Identifier.head(10)\n",
    "#Prefixes here FD - Foods DR  - Drinks NC - Non Consumeable"
   ]
  },
  {
   "cell_type": "code",
   "execution_count": 39,
   "metadata": {},
   "outputs": [
    {
     "data": {
      "text/html": [
       "<div>\n",
       "<style scoped>\n",
       "    .dataframe tbody tr th:only-of-type {\n",
       "        vertical-align: middle;\n",
       "    }\n",
       "\n",
       "    .dataframe tbody tr th {\n",
       "        vertical-align: top;\n",
       "    }\n",
       "\n",
       "    .dataframe thead th {\n",
       "        text-align: right;\n",
       "    }\n",
       "</style>\n",
       "<table border=\"1\" class=\"dataframe\">\n",
       "  <thead>\n",
       "    <tr style=\"text-align: right;\">\n",
       "      <th></th>\n",
       "      <th>Item_Identifier</th>\n",
       "      <th>Item_Type</th>\n",
       "    </tr>\n",
       "  </thead>\n",
       "  <tbody>\n",
       "    <tr>\n",
       "      <th>0</th>\n",
       "      <td>FDA15</td>\n",
       "      <td>Dairy</td>\n",
       "    </tr>\n",
       "    <tr>\n",
       "      <th>1</th>\n",
       "      <td>DRC01</td>\n",
       "      <td>Soft Drinks</td>\n",
       "    </tr>\n",
       "    <tr>\n",
       "      <th>2</th>\n",
       "      <td>FDN15</td>\n",
       "      <td>Meat</td>\n",
       "    </tr>\n",
       "    <tr>\n",
       "      <th>3</th>\n",
       "      <td>FDX07</td>\n",
       "      <td>Fruits and Vegetables</td>\n",
       "    </tr>\n",
       "    <tr>\n",
       "      <th>4</th>\n",
       "      <td>NCD19</td>\n",
       "      <td>Household</td>\n",
       "    </tr>\n",
       "    <tr>\n",
       "      <th>5</th>\n",
       "      <td>FDP36</td>\n",
       "      <td>Baking Goods</td>\n",
       "    </tr>\n",
       "    <tr>\n",
       "      <th>6</th>\n",
       "      <td>FDO10</td>\n",
       "      <td>Snack Foods</td>\n",
       "    </tr>\n",
       "    <tr>\n",
       "      <th>7</th>\n",
       "      <td>FDP10</td>\n",
       "      <td>Snack Foods</td>\n",
       "    </tr>\n",
       "    <tr>\n",
       "      <th>8</th>\n",
       "      <td>FDH17</td>\n",
       "      <td>Frozen Foods</td>\n",
       "    </tr>\n",
       "    <tr>\n",
       "      <th>9</th>\n",
       "      <td>FDU28</td>\n",
       "      <td>Frozen Foods</td>\n",
       "    </tr>\n",
       "  </tbody>\n",
       "</table>\n",
       "</div>"
      ],
      "text/plain": [
       "  Item_Identifier              Item_Type\n",
       "0           FDA15                  Dairy\n",
       "1           DRC01            Soft Drinks\n",
       "2           FDN15                   Meat\n",
       "3           FDX07  Fruits and Vegetables\n",
       "4           NCD19              Household\n",
       "5           FDP36           Baking Goods\n",
       "6           FDO10            Snack Foods\n",
       "7           FDP10            Snack Foods\n",
       "8           FDH17           Frozen Foods\n",
       "9           FDU28           Frozen Foods"
      ]
     },
     "execution_count": 39,
     "metadata": {},
     "output_type": "execute_result"
    }
   ],
   "source": [
    "objectdatadf[['Item_Identifier','Item_Type']].head(10)"
   ]
  },
  {
   "cell_type": "code",
   "execution_count": 40,
   "metadata": {},
   "outputs": [],
   "source": [
    "objectdatadf['codes'] = objectdatadf['Item_Identifier'].apply(lambda x : x[0:2])"
   ]
  },
  {
   "cell_type": "code",
   "execution_count": 41,
   "metadata": {},
   "outputs": [
    {
     "data": {
      "text/plain": [
       "FD    10201\n",
       "NC     2686\n",
       "DR     1317\n",
       "Name: codes, dtype: int64"
      ]
     },
     "execution_count": 41,
     "metadata": {},
     "output_type": "execute_result"
    }
   ],
   "source": [
    "objectdatadf.codes.value_counts() #Hence Verified that there ae 3 prefixed values only FD, DR, NC"
   ]
  },
  {
   "cell_type": "code",
   "execution_count": 42,
   "metadata": {},
   "outputs": [
    {
     "data": {
      "text/plain": [
       "Index(['Item_Identifier', 'Item_Fat_Content', 'Item_Type', 'Outlet_Identifier',\n",
       "       'Outlet_Size', 'Outlet_Location_Type', 'Outlet_Type', 'Type', 'codes'],\n",
       "      dtype='object')"
      ]
     },
     "execution_count": 42,
     "metadata": {},
     "output_type": "execute_result"
    }
   ],
   "source": [
    "objectdatadf.columns"
   ]
  },
  {
   "cell_type": "code",
   "execution_count": 43,
   "metadata": {},
   "outputs": [
    {
     "data": {
      "text/plain": [
       "0    OUT049\n",
       "1    OUT018\n",
       "2    OUT049\n",
       "3    OUT010\n",
       "4    OUT013\n",
       "Name: Outlet_Identifier, dtype: object"
      ]
     },
     "execution_count": 43,
     "metadata": {},
     "output_type": "execute_result"
    }
   ],
   "source": [
    "objectdatadf.Outlet_Identifier.head()"
   ]
  },
  {
   "cell_type": "code",
   "execution_count": 44,
   "metadata": {},
   "outputs": [
    {
     "data": {
      "text/plain": [
       "Index(['Item_Weight', 'Item_Visibility', 'Item_MRP',\n",
       "       'Outlet_Establishment_Year'],\n",
       "      dtype='object')"
      ]
     },
     "execution_count": 44,
     "metadata": {},
     "output_type": "execute_result"
    }
   ],
   "source": [
    "numericdatadf.columns"
   ]
  },
  {
   "cell_type": "code",
   "execution_count": 45,
   "metadata": {},
   "outputs": [
    {
     "data": {
      "text/plain": [
       "count    14204.000000\n",
       "mean         0.065953\n",
       "std          0.051459\n",
       "min          0.000000\n",
       "25%          0.027036\n",
       "50%          0.054021\n",
       "75%          0.094037\n",
       "max          0.328391\n",
       "Name: Item_Visibility, dtype: float64"
      ]
     },
     "execution_count": 45,
     "metadata": {},
     "output_type": "execute_result"
    }
   ],
   "source": [
    "numericdatadf.Item_Visibility.describe()\n",
    "# min is 0 that means no data there"
   ]
  },
  {
   "cell_type": "code",
   "execution_count": 46,
   "metadata": {},
   "outputs": [],
   "source": [
    "zerovisibilty = numericdatadf[numericdatadf.Item_Visibility == 0]"
   ]
  },
  {
   "cell_type": "code",
   "execution_count": 47,
   "metadata": {},
   "outputs": [
    {
     "data": {
      "text/plain": [
       "(879, 4)"
      ]
     },
     "execution_count": 47,
     "metadata": {},
     "output_type": "execute_result"
    }
   ],
   "source": [
    "zerovisibilty.shape"
   ]
  },
  {
   "cell_type": "code",
   "execution_count": 48,
   "metadata": {},
   "outputs": [],
   "source": [
    "numericdatadf.Item_Visibility = numericdatadf.Item_Visibility.replace(0, numericdatadf.Item_Visibility.median())"
   ]
  },
  {
   "cell_type": "code",
   "execution_count": 49,
   "metadata": {},
   "outputs": [
    {
     "data": {
      "text/plain": [
       "(0, 4)"
      ]
     },
     "execution_count": 49,
     "metadata": {},
     "output_type": "execute_result"
    }
   ],
   "source": [
    "zerovisibilty = numericdatadf[numericdatadf.Item_Visibility == 0]\n",
    "zerovisibilty.shape"
   ]
  },
  {
   "cell_type": "code",
   "execution_count": 50,
   "metadata": {},
   "outputs": [
    {
     "data": {
      "text/plain": [
       "count    14204.000000\n",
       "mean      1997.830681\n",
       "std          8.371664\n",
       "min       1985.000000\n",
       "25%       1987.000000\n",
       "50%       1999.000000\n",
       "75%       2004.000000\n",
       "max       2009.000000\n",
       "Name: Outlet_Establishment_Year, dtype: float64"
      ]
     },
     "execution_count": 50,
     "metadata": {},
     "output_type": "execute_result"
    }
   ],
   "source": [
    "numericdata.Outlet_Establishment_Year.describe()"
   ]
  },
  {
   "cell_type": "code",
   "execution_count": 51,
   "metadata": {},
   "outputs": [],
   "source": [
    "numericdatadf['Outlet_Age'] = 2020 - numericdatadf.Outlet_Establishment_Year"
   ]
  },
  {
   "cell_type": "code",
   "execution_count": 52,
   "metadata": {},
   "outputs": [
    {
     "data": {
      "text/plain": [
       "0        21.0\n",
       "1        11.0\n",
       "2        21.0\n",
       "3        22.0\n",
       "4        33.0\n",
       "         ... \n",
       "14199    23.0\n",
       "14200    11.0\n",
       "14201    18.0\n",
       "14202    13.0\n",
       "14203    18.0\n",
       "Name: Outlet_Age, Length: 14204, dtype: float64"
      ]
     },
     "execution_count": 52,
     "metadata": {},
     "output_type": "execute_result"
    }
   ],
   "source": [
    "numericdatadf.Outlet_Age\n",
    "#We have 2 cols Outlet_Establishment_Year and Outlet_Age"
   ]
  },
  {
   "cell_type": "code",
   "execution_count": 53,
   "metadata": {},
   "outputs": [
    {
     "data": {
      "text/plain": [
       "Index(['Item_Weight', 'Item_Visibility', 'Item_MRP',\n",
       "       'Outlet_Establishment_Year', 'Outlet_Age'],\n",
       "      dtype='object')"
      ]
     },
     "execution_count": 53,
     "metadata": {},
     "output_type": "execute_result"
    }
   ],
   "source": [
    "numericdatadf.columns"
   ]
  },
  {
   "cell_type": "code",
   "execution_count": 54,
   "metadata": {},
   "outputs": [],
   "source": [
    "numericdatadf.drop('Outlet_Establishment_Year', axis = 1, inplace = True)"
   ]
  },
  {
   "cell_type": "code",
   "execution_count": 55,
   "metadata": {},
   "outputs": [
    {
     "data": {
      "text/plain": [
       "Index(['Item_Identifier', 'Item_Fat_Content', 'Item_Type', 'Outlet_Identifier',\n",
       "       'Outlet_Size', 'Outlet_Location_Type', 'Outlet_Type', 'Type', 'codes'],\n",
       "      dtype='object')"
      ]
     },
     "execution_count": 55,
     "metadata": {},
     "output_type": "execute_result"
    }
   ],
   "source": [
    "objectdatadf.columns"
   ]
  },
  {
   "cell_type": "code",
   "execution_count": 56,
   "metadata": {},
   "outputs": [],
   "source": [
    "#One hot Encoding\n",
    "objectdummy = pd.get_dummies(objectdatadf, columns = ['Item_Fat_Content','Outlet_Size', 'Outlet_Location_Type', 'Outlet_Type','codes'])"
   ]
  },
  {
   "cell_type": "code",
   "execution_count": 57,
   "metadata": {},
   "outputs": [
    {
     "data": {
      "text/html": [
       "<div>\n",
       "<style scoped>\n",
       "    .dataframe tbody tr th:only-of-type {\n",
       "        vertical-align: middle;\n",
       "    }\n",
       "\n",
       "    .dataframe tbody tr th {\n",
       "        vertical-align: top;\n",
       "    }\n",
       "\n",
       "    .dataframe thead th {\n",
       "        text-align: right;\n",
       "    }\n",
       "</style>\n",
       "<table border=\"1\" class=\"dataframe\">\n",
       "  <thead>\n",
       "    <tr style=\"text-align: right;\">\n",
       "      <th></th>\n",
       "      <th>Item_Identifier</th>\n",
       "      <th>Item_Type</th>\n",
       "      <th>Outlet_Identifier</th>\n",
       "      <th>Type</th>\n",
       "      <th>Item_Fat_Content_Low Fat</th>\n",
       "      <th>Item_Fat_Content_Regular</th>\n",
       "      <th>Outlet_Size_High</th>\n",
       "      <th>Outlet_Size_Medium</th>\n",
       "      <th>Outlet_Size_Small</th>\n",
       "      <th>Outlet_Size_unknown</th>\n",
       "      <th>Outlet_Location_Type_Tier 1</th>\n",
       "      <th>Outlet_Location_Type_Tier 2</th>\n",
       "      <th>Outlet_Location_Type_Tier 3</th>\n",
       "      <th>Outlet_Type_Grocery Store</th>\n",
       "      <th>Outlet_Type_Supermarket Type1</th>\n",
       "      <th>Outlet_Type_Supermarket Type2</th>\n",
       "      <th>Outlet_Type_Supermarket Type3</th>\n",
       "      <th>codes_DR</th>\n",
       "      <th>codes_FD</th>\n",
       "      <th>codes_NC</th>\n",
       "    </tr>\n",
       "  </thead>\n",
       "  <tbody>\n",
       "    <tr>\n",
       "      <th>0</th>\n",
       "      <td>FDA15</td>\n",
       "      <td>Dairy</td>\n",
       "      <td>OUT049</td>\n",
       "      <td>Train</td>\n",
       "      <td>1</td>\n",
       "      <td>0</td>\n",
       "      <td>0</td>\n",
       "      <td>1</td>\n",
       "      <td>0</td>\n",
       "      <td>0</td>\n",
       "      <td>1</td>\n",
       "      <td>0</td>\n",
       "      <td>0</td>\n",
       "      <td>0</td>\n",
       "      <td>1</td>\n",
       "      <td>0</td>\n",
       "      <td>0</td>\n",
       "      <td>0</td>\n",
       "      <td>1</td>\n",
       "      <td>0</td>\n",
       "    </tr>\n",
       "    <tr>\n",
       "      <th>1</th>\n",
       "      <td>DRC01</td>\n",
       "      <td>Soft Drinks</td>\n",
       "      <td>OUT018</td>\n",
       "      <td>Train</td>\n",
       "      <td>0</td>\n",
       "      <td>1</td>\n",
       "      <td>0</td>\n",
       "      <td>1</td>\n",
       "      <td>0</td>\n",
       "      <td>0</td>\n",
       "      <td>0</td>\n",
       "      <td>0</td>\n",
       "      <td>1</td>\n",
       "      <td>0</td>\n",
       "      <td>0</td>\n",
       "      <td>1</td>\n",
       "      <td>0</td>\n",
       "      <td>1</td>\n",
       "      <td>0</td>\n",
       "      <td>0</td>\n",
       "    </tr>\n",
       "    <tr>\n",
       "      <th>2</th>\n",
       "      <td>FDN15</td>\n",
       "      <td>Meat</td>\n",
       "      <td>OUT049</td>\n",
       "      <td>Train</td>\n",
       "      <td>1</td>\n",
       "      <td>0</td>\n",
       "      <td>0</td>\n",
       "      <td>1</td>\n",
       "      <td>0</td>\n",
       "      <td>0</td>\n",
       "      <td>1</td>\n",
       "      <td>0</td>\n",
       "      <td>0</td>\n",
       "      <td>0</td>\n",
       "      <td>1</td>\n",
       "      <td>0</td>\n",
       "      <td>0</td>\n",
       "      <td>0</td>\n",
       "      <td>1</td>\n",
       "      <td>0</td>\n",
       "    </tr>\n",
       "    <tr>\n",
       "      <th>3</th>\n",
       "      <td>FDX07</td>\n",
       "      <td>Fruits and Vegetables</td>\n",
       "      <td>OUT010</td>\n",
       "      <td>Train</td>\n",
       "      <td>0</td>\n",
       "      <td>1</td>\n",
       "      <td>0</td>\n",
       "      <td>0</td>\n",
       "      <td>0</td>\n",
       "      <td>1</td>\n",
       "      <td>0</td>\n",
       "      <td>0</td>\n",
       "      <td>1</td>\n",
       "      <td>1</td>\n",
       "      <td>0</td>\n",
       "      <td>0</td>\n",
       "      <td>0</td>\n",
       "      <td>0</td>\n",
       "      <td>1</td>\n",
       "      <td>0</td>\n",
       "    </tr>\n",
       "    <tr>\n",
       "      <th>4</th>\n",
       "      <td>NCD19</td>\n",
       "      <td>Household</td>\n",
       "      <td>OUT013</td>\n",
       "      <td>Train</td>\n",
       "      <td>1</td>\n",
       "      <td>0</td>\n",
       "      <td>1</td>\n",
       "      <td>0</td>\n",
       "      <td>0</td>\n",
       "      <td>0</td>\n",
       "      <td>0</td>\n",
       "      <td>0</td>\n",
       "      <td>1</td>\n",
       "      <td>0</td>\n",
       "      <td>1</td>\n",
       "      <td>0</td>\n",
       "      <td>0</td>\n",
       "      <td>0</td>\n",
       "      <td>0</td>\n",
       "      <td>1</td>\n",
       "    </tr>\n",
       "  </tbody>\n",
       "</table>\n",
       "</div>"
      ],
      "text/plain": [
       "  Item_Identifier              Item_Type Outlet_Identifier   Type  \\\n",
       "0           FDA15                  Dairy            OUT049  Train   \n",
       "1           DRC01            Soft Drinks            OUT018  Train   \n",
       "2           FDN15                   Meat            OUT049  Train   \n",
       "3           FDX07  Fruits and Vegetables            OUT010  Train   \n",
       "4           NCD19              Household            OUT013  Train   \n",
       "\n",
       "   Item_Fat_Content_Low Fat  Item_Fat_Content_Regular  Outlet_Size_High  \\\n",
       "0                         1                         0                 0   \n",
       "1                         0                         1                 0   \n",
       "2                         1                         0                 0   \n",
       "3                         0                         1                 0   \n",
       "4                         1                         0                 1   \n",
       "\n",
       "   Outlet_Size_Medium  Outlet_Size_Small  Outlet_Size_unknown  \\\n",
       "0                   1                  0                    0   \n",
       "1                   1                  0                    0   \n",
       "2                   1                  0                    0   \n",
       "3                   0                  0                    1   \n",
       "4                   0                  0                    0   \n",
       "\n",
       "   Outlet_Location_Type_Tier 1  Outlet_Location_Type_Tier 2  \\\n",
       "0                            1                            0   \n",
       "1                            0                            0   \n",
       "2                            1                            0   \n",
       "3                            0                            0   \n",
       "4                            0                            0   \n",
       "\n",
       "   Outlet_Location_Type_Tier 3  Outlet_Type_Grocery Store  \\\n",
       "0                            0                          0   \n",
       "1                            1                          0   \n",
       "2                            0                          0   \n",
       "3                            1                          1   \n",
       "4                            1                          0   \n",
       "\n",
       "   Outlet_Type_Supermarket Type1  Outlet_Type_Supermarket Type2  \\\n",
       "0                              1                              0   \n",
       "1                              0                              1   \n",
       "2                              1                              0   \n",
       "3                              0                              0   \n",
       "4                              1                              0   \n",
       "\n",
       "   Outlet_Type_Supermarket Type3  codes_DR  codes_FD  codes_NC  \n",
       "0                              0         0         1         0  \n",
       "1                              0         1         0         0  \n",
       "2                              0         0         1         0  \n",
       "3                              0         0         1         0  \n",
       "4                              0         0         0         1  "
      ]
     },
     "execution_count": 57,
     "metadata": {},
     "output_type": "execute_result"
    }
   ],
   "source": [
    "objectdummy.head()"
   ]
  },
  {
   "cell_type": "code",
   "execution_count": 58,
   "metadata": {},
   "outputs": [],
   "source": [
    "objectdummy.drop(['Item_Identifier','Item_Type', 'Outlet_Identifier'], axis = 1, inplace = True)"
   ]
  },
  {
   "cell_type": "code",
   "execution_count": 59,
   "metadata": {},
   "outputs": [],
   "source": [
    "numericdatadf.reset_index(drop = True, inplace = True)\n",
    "objectdummy.reset_index(drop = True, inplace = True)"
   ]
  },
  {
   "cell_type": "code",
   "execution_count": 60,
   "metadata": {},
   "outputs": [],
   "source": [
    "cleaneddata = pd.concat([numericdatadf, objectdummy], axis = 1)"
   ]
  },
  {
   "cell_type": "code",
   "execution_count": 61,
   "metadata": {},
   "outputs": [
    {
     "data": {
      "text/html": [
       "<div>\n",
       "<style scoped>\n",
       "    .dataframe tbody tr th:only-of-type {\n",
       "        vertical-align: middle;\n",
       "    }\n",
       "\n",
       "    .dataframe tbody tr th {\n",
       "        vertical-align: top;\n",
       "    }\n",
       "\n",
       "    .dataframe thead th {\n",
       "        text-align: right;\n",
       "    }\n",
       "</style>\n",
       "<table border=\"1\" class=\"dataframe\">\n",
       "  <thead>\n",
       "    <tr style=\"text-align: right;\">\n",
       "      <th></th>\n",
       "      <th>Item_Weight</th>\n",
       "      <th>Item_Visibility</th>\n",
       "      <th>Item_MRP</th>\n",
       "      <th>Outlet_Age</th>\n",
       "      <th>Type</th>\n",
       "      <th>Item_Fat_Content_Low Fat</th>\n",
       "      <th>Item_Fat_Content_Regular</th>\n",
       "      <th>Outlet_Size_High</th>\n",
       "      <th>Outlet_Size_Medium</th>\n",
       "      <th>Outlet_Size_Small</th>\n",
       "      <th>...</th>\n",
       "      <th>Outlet_Location_Type_Tier 1</th>\n",
       "      <th>Outlet_Location_Type_Tier 2</th>\n",
       "      <th>Outlet_Location_Type_Tier 3</th>\n",
       "      <th>Outlet_Type_Grocery Store</th>\n",
       "      <th>Outlet_Type_Supermarket Type1</th>\n",
       "      <th>Outlet_Type_Supermarket Type2</th>\n",
       "      <th>Outlet_Type_Supermarket Type3</th>\n",
       "      <th>codes_DR</th>\n",
       "      <th>codes_FD</th>\n",
       "      <th>codes_NC</th>\n",
       "    </tr>\n",
       "  </thead>\n",
       "  <tbody>\n",
       "    <tr>\n",
       "      <th>0</th>\n",
       "      <td>9.30</td>\n",
       "      <td>0.016047</td>\n",
       "      <td>249.8092</td>\n",
       "      <td>21.0</td>\n",
       "      <td>Train</td>\n",
       "      <td>1</td>\n",
       "      <td>0</td>\n",
       "      <td>0</td>\n",
       "      <td>1</td>\n",
       "      <td>0</td>\n",
       "      <td>...</td>\n",
       "      <td>1</td>\n",
       "      <td>0</td>\n",
       "      <td>0</td>\n",
       "      <td>0</td>\n",
       "      <td>1</td>\n",
       "      <td>0</td>\n",
       "      <td>0</td>\n",
       "      <td>0</td>\n",
       "      <td>1</td>\n",
       "      <td>0</td>\n",
       "    </tr>\n",
       "    <tr>\n",
       "      <th>1</th>\n",
       "      <td>5.92</td>\n",
       "      <td>0.019278</td>\n",
       "      <td>48.2692</td>\n",
       "      <td>11.0</td>\n",
       "      <td>Train</td>\n",
       "      <td>0</td>\n",
       "      <td>1</td>\n",
       "      <td>0</td>\n",
       "      <td>1</td>\n",
       "      <td>0</td>\n",
       "      <td>...</td>\n",
       "      <td>0</td>\n",
       "      <td>0</td>\n",
       "      <td>1</td>\n",
       "      <td>0</td>\n",
       "      <td>0</td>\n",
       "      <td>1</td>\n",
       "      <td>0</td>\n",
       "      <td>1</td>\n",
       "      <td>0</td>\n",
       "      <td>0</td>\n",
       "    </tr>\n",
       "    <tr>\n",
       "      <th>2</th>\n",
       "      <td>17.50</td>\n",
       "      <td>0.016760</td>\n",
       "      <td>141.6180</td>\n",
       "      <td>21.0</td>\n",
       "      <td>Train</td>\n",
       "      <td>1</td>\n",
       "      <td>0</td>\n",
       "      <td>0</td>\n",
       "      <td>1</td>\n",
       "      <td>0</td>\n",
       "      <td>...</td>\n",
       "      <td>1</td>\n",
       "      <td>0</td>\n",
       "      <td>0</td>\n",
       "      <td>0</td>\n",
       "      <td>1</td>\n",
       "      <td>0</td>\n",
       "      <td>0</td>\n",
       "      <td>0</td>\n",
       "      <td>1</td>\n",
       "      <td>0</td>\n",
       "    </tr>\n",
       "    <tr>\n",
       "      <th>3</th>\n",
       "      <td>19.20</td>\n",
       "      <td>0.054021</td>\n",
       "      <td>182.0950</td>\n",
       "      <td>22.0</td>\n",
       "      <td>Train</td>\n",
       "      <td>0</td>\n",
       "      <td>1</td>\n",
       "      <td>0</td>\n",
       "      <td>0</td>\n",
       "      <td>0</td>\n",
       "      <td>...</td>\n",
       "      <td>0</td>\n",
       "      <td>0</td>\n",
       "      <td>1</td>\n",
       "      <td>1</td>\n",
       "      <td>0</td>\n",
       "      <td>0</td>\n",
       "      <td>0</td>\n",
       "      <td>0</td>\n",
       "      <td>1</td>\n",
       "      <td>0</td>\n",
       "    </tr>\n",
       "    <tr>\n",
       "      <th>4</th>\n",
       "      <td>8.93</td>\n",
       "      <td>0.054021</td>\n",
       "      <td>53.8614</td>\n",
       "      <td>33.0</td>\n",
       "      <td>Train</td>\n",
       "      <td>1</td>\n",
       "      <td>0</td>\n",
       "      <td>1</td>\n",
       "      <td>0</td>\n",
       "      <td>0</td>\n",
       "      <td>...</td>\n",
       "      <td>0</td>\n",
       "      <td>0</td>\n",
       "      <td>1</td>\n",
       "      <td>0</td>\n",
       "      <td>1</td>\n",
       "      <td>0</td>\n",
       "      <td>0</td>\n",
       "      <td>0</td>\n",
       "      <td>0</td>\n",
       "      <td>1</td>\n",
       "    </tr>\n",
       "  </tbody>\n",
       "</table>\n",
       "<p>5 rows × 21 columns</p>\n",
       "</div>"
      ],
      "text/plain": [
       "   Item_Weight  Item_Visibility  Item_MRP  Outlet_Age   Type  \\\n",
       "0         9.30         0.016047  249.8092        21.0  Train   \n",
       "1         5.92         0.019278   48.2692        11.0  Train   \n",
       "2        17.50         0.016760  141.6180        21.0  Train   \n",
       "3        19.20         0.054021  182.0950        22.0  Train   \n",
       "4         8.93         0.054021   53.8614        33.0  Train   \n",
       "\n",
       "   Item_Fat_Content_Low Fat  Item_Fat_Content_Regular  Outlet_Size_High  \\\n",
       "0                         1                         0                 0   \n",
       "1                         0                         1                 0   \n",
       "2                         1                         0                 0   \n",
       "3                         0                         1                 0   \n",
       "4                         1                         0                 1   \n",
       "\n",
       "   Outlet_Size_Medium  Outlet_Size_Small  ...  Outlet_Location_Type_Tier 1  \\\n",
       "0                   1                  0  ...                            1   \n",
       "1                   1                  0  ...                            0   \n",
       "2                   1                  0  ...                            1   \n",
       "3                   0                  0  ...                            0   \n",
       "4                   0                  0  ...                            0   \n",
       "\n",
       "   Outlet_Location_Type_Tier 2  Outlet_Location_Type_Tier 3  \\\n",
       "0                            0                            0   \n",
       "1                            0                            1   \n",
       "2                            0                            0   \n",
       "3                            0                            1   \n",
       "4                            0                            1   \n",
       "\n",
       "   Outlet_Type_Grocery Store  Outlet_Type_Supermarket Type1  \\\n",
       "0                          0                              1   \n",
       "1                          0                              0   \n",
       "2                          0                              1   \n",
       "3                          1                              0   \n",
       "4                          0                              1   \n",
       "\n",
       "   Outlet_Type_Supermarket Type2  Outlet_Type_Supermarket Type3  codes_DR  \\\n",
       "0                              0                              0         0   \n",
       "1                              1                              0         1   \n",
       "2                              0                              0         0   \n",
       "3                              0                              0         0   \n",
       "4                              0                              0         0   \n",
       "\n",
       "   codes_FD  codes_NC  \n",
       "0         1         0  \n",
       "1         0         0  \n",
       "2         1         0  \n",
       "3         1         0  \n",
       "4         0         1  \n",
       "\n",
       "[5 rows x 21 columns]"
      ]
     },
     "execution_count": 61,
     "metadata": {},
     "output_type": "execute_result"
    }
   ],
   "source": [
    "cleaneddata.head()"
   ]
  },
  {
   "cell_type": "code",
   "execution_count": 62,
   "metadata": {},
   "outputs": [],
   "source": [
    "#Split back to test and Train\n",
    "bigmarttraindf = cleaneddata[cleaneddata.Type == 'Train']"
   ]
  },
  {
   "cell_type": "code",
   "execution_count": 63,
   "metadata": {},
   "outputs": [],
   "source": [
    "bigmarttestdf = cleaneddata[cleaneddata.Type == 'Test']"
   ]
  },
  {
   "cell_type": "code",
   "execution_count": 64,
   "metadata": {},
   "outputs": [
    {
     "data": {
      "text/plain": [
       "(5681, 21)"
      ]
     },
     "execution_count": 64,
     "metadata": {},
     "output_type": "execute_result"
    }
   ],
   "source": [
    "bigmarttestdf.shape"
   ]
  },
  {
   "cell_type": "code",
   "execution_count": 65,
   "metadata": {},
   "outputs": [
    {
     "data": {
      "text/plain": [
       "(8523, 21)"
      ]
     },
     "execution_count": 65,
     "metadata": {},
     "output_type": "execute_result"
    }
   ],
   "source": [
    "bigmarttraindf.shape"
   ]
  },
  {
   "cell_type": "code",
   "execution_count": 66,
   "metadata": {},
   "outputs": [
    {
     "name": "stderr",
     "output_type": "stream",
     "text": [
      "D:\\anaconda3\\lib\\site-packages\\pandas\\core\\frame.py:3990: SettingWithCopyWarning: \n",
      "A value is trying to be set on a copy of a slice from a DataFrame\n",
      "\n",
      "See the caveats in the documentation: https://pandas.pydata.org/pandas-docs/stable/user_guide/indexing.html#returning-a-view-versus-a-copy\n",
      "  return super().drop(\n"
     ]
    }
   ],
   "source": [
    "bigmarttraindf.drop('Type', axis = 1, inplace=True)"
   ]
  },
  {
   "cell_type": "code",
   "execution_count": 67,
   "metadata": {},
   "outputs": [],
   "source": [
    "bigmarttestdf.drop('Type', axis = 1, inplace=True)"
   ]
  },
  {
   "cell_type": "code",
   "execution_count": 68,
   "metadata": {},
   "outputs": [
    {
     "name": "stderr",
     "output_type": "stream",
     "text": [
      "<ipython-input-68-2eeadaa99627>:1: SettingWithCopyWarning: \n",
      "A value is trying to be set on a copy of a slice from a DataFrame.\n",
      "Try using .loc[row_indexer,col_indexer] = value instead\n",
      "\n",
      "See the caveats in the documentation: https://pandas.pydata.org/pandas-docs/stable/user_guide/indexing.html#returning-a-view-versus-a-copy\n",
      "  bigmarttraindf['Item_Outlet_Sales'] = bigmarttrain.Item_Outlet_Sales\n"
     ]
    }
   ],
   "source": [
    "bigmarttraindf['Item_Outlet_Sales'] = bigmarttrain.Item_Outlet_Sales"
   ]
  },
  {
   "cell_type": "code",
   "execution_count": 69,
   "metadata": {},
   "outputs": [
    {
     "data": {
      "text/html": [
       "<div>\n",
       "<style scoped>\n",
       "    .dataframe tbody tr th:only-of-type {\n",
       "        vertical-align: middle;\n",
       "    }\n",
       "\n",
       "    .dataframe tbody tr th {\n",
       "        vertical-align: top;\n",
       "    }\n",
       "\n",
       "    .dataframe thead th {\n",
       "        text-align: right;\n",
       "    }\n",
       "</style>\n",
       "<table border=\"1\" class=\"dataframe\">\n",
       "  <thead>\n",
       "    <tr style=\"text-align: right;\">\n",
       "      <th></th>\n",
       "      <th>Item_Weight</th>\n",
       "      <th>Item_Visibility</th>\n",
       "      <th>Item_MRP</th>\n",
       "      <th>Outlet_Age</th>\n",
       "      <th>Item_Fat_Content_Low Fat</th>\n",
       "      <th>Item_Fat_Content_Regular</th>\n",
       "      <th>Outlet_Size_High</th>\n",
       "      <th>Outlet_Size_Medium</th>\n",
       "      <th>Outlet_Size_Small</th>\n",
       "      <th>Outlet_Size_unknown</th>\n",
       "      <th>...</th>\n",
       "      <th>Outlet_Location_Type_Tier 2</th>\n",
       "      <th>Outlet_Location_Type_Tier 3</th>\n",
       "      <th>Outlet_Type_Grocery Store</th>\n",
       "      <th>Outlet_Type_Supermarket Type1</th>\n",
       "      <th>Outlet_Type_Supermarket Type2</th>\n",
       "      <th>Outlet_Type_Supermarket Type3</th>\n",
       "      <th>codes_DR</th>\n",
       "      <th>codes_FD</th>\n",
       "      <th>codes_NC</th>\n",
       "      <th>Item_Outlet_Sales</th>\n",
       "    </tr>\n",
       "  </thead>\n",
       "  <tbody>\n",
       "    <tr>\n",
       "      <th>0</th>\n",
       "      <td>9.30</td>\n",
       "      <td>0.016047</td>\n",
       "      <td>249.8092</td>\n",
       "      <td>21.0</td>\n",
       "      <td>1</td>\n",
       "      <td>0</td>\n",
       "      <td>0</td>\n",
       "      <td>1</td>\n",
       "      <td>0</td>\n",
       "      <td>0</td>\n",
       "      <td>...</td>\n",
       "      <td>0</td>\n",
       "      <td>0</td>\n",
       "      <td>0</td>\n",
       "      <td>1</td>\n",
       "      <td>0</td>\n",
       "      <td>0</td>\n",
       "      <td>0</td>\n",
       "      <td>1</td>\n",
       "      <td>0</td>\n",
       "      <td>3735.1380</td>\n",
       "    </tr>\n",
       "    <tr>\n",
       "      <th>1</th>\n",
       "      <td>5.92</td>\n",
       "      <td>0.019278</td>\n",
       "      <td>48.2692</td>\n",
       "      <td>11.0</td>\n",
       "      <td>0</td>\n",
       "      <td>1</td>\n",
       "      <td>0</td>\n",
       "      <td>1</td>\n",
       "      <td>0</td>\n",
       "      <td>0</td>\n",
       "      <td>...</td>\n",
       "      <td>0</td>\n",
       "      <td>1</td>\n",
       "      <td>0</td>\n",
       "      <td>0</td>\n",
       "      <td>1</td>\n",
       "      <td>0</td>\n",
       "      <td>1</td>\n",
       "      <td>0</td>\n",
       "      <td>0</td>\n",
       "      <td>443.4228</td>\n",
       "    </tr>\n",
       "    <tr>\n",
       "      <th>2</th>\n",
       "      <td>17.50</td>\n",
       "      <td>0.016760</td>\n",
       "      <td>141.6180</td>\n",
       "      <td>21.0</td>\n",
       "      <td>1</td>\n",
       "      <td>0</td>\n",
       "      <td>0</td>\n",
       "      <td>1</td>\n",
       "      <td>0</td>\n",
       "      <td>0</td>\n",
       "      <td>...</td>\n",
       "      <td>0</td>\n",
       "      <td>0</td>\n",
       "      <td>0</td>\n",
       "      <td>1</td>\n",
       "      <td>0</td>\n",
       "      <td>0</td>\n",
       "      <td>0</td>\n",
       "      <td>1</td>\n",
       "      <td>0</td>\n",
       "      <td>2097.2700</td>\n",
       "    </tr>\n",
       "    <tr>\n",
       "      <th>3</th>\n",
       "      <td>19.20</td>\n",
       "      <td>0.054021</td>\n",
       "      <td>182.0950</td>\n",
       "      <td>22.0</td>\n",
       "      <td>0</td>\n",
       "      <td>1</td>\n",
       "      <td>0</td>\n",
       "      <td>0</td>\n",
       "      <td>0</td>\n",
       "      <td>1</td>\n",
       "      <td>...</td>\n",
       "      <td>0</td>\n",
       "      <td>1</td>\n",
       "      <td>1</td>\n",
       "      <td>0</td>\n",
       "      <td>0</td>\n",
       "      <td>0</td>\n",
       "      <td>0</td>\n",
       "      <td>1</td>\n",
       "      <td>0</td>\n",
       "      <td>732.3800</td>\n",
       "    </tr>\n",
       "    <tr>\n",
       "      <th>4</th>\n",
       "      <td>8.93</td>\n",
       "      <td>0.054021</td>\n",
       "      <td>53.8614</td>\n",
       "      <td>33.0</td>\n",
       "      <td>1</td>\n",
       "      <td>0</td>\n",
       "      <td>1</td>\n",
       "      <td>0</td>\n",
       "      <td>0</td>\n",
       "      <td>0</td>\n",
       "      <td>...</td>\n",
       "      <td>0</td>\n",
       "      <td>1</td>\n",
       "      <td>0</td>\n",
       "      <td>1</td>\n",
       "      <td>0</td>\n",
       "      <td>0</td>\n",
       "      <td>0</td>\n",
       "      <td>0</td>\n",
       "      <td>1</td>\n",
       "      <td>994.7052</td>\n",
       "    </tr>\n",
       "  </tbody>\n",
       "</table>\n",
       "<p>5 rows × 21 columns</p>\n",
       "</div>"
      ],
      "text/plain": [
       "   Item_Weight  Item_Visibility  Item_MRP  Outlet_Age  \\\n",
       "0         9.30         0.016047  249.8092        21.0   \n",
       "1         5.92         0.019278   48.2692        11.0   \n",
       "2        17.50         0.016760  141.6180        21.0   \n",
       "3        19.20         0.054021  182.0950        22.0   \n",
       "4         8.93         0.054021   53.8614        33.0   \n",
       "\n",
       "   Item_Fat_Content_Low Fat  Item_Fat_Content_Regular  Outlet_Size_High  \\\n",
       "0                         1                         0                 0   \n",
       "1                         0                         1                 0   \n",
       "2                         1                         0                 0   \n",
       "3                         0                         1                 0   \n",
       "4                         1                         0                 1   \n",
       "\n",
       "   Outlet_Size_Medium  Outlet_Size_Small  Outlet_Size_unknown  ...  \\\n",
       "0                   1                  0                    0  ...   \n",
       "1                   1                  0                    0  ...   \n",
       "2                   1                  0                    0  ...   \n",
       "3                   0                  0                    1  ...   \n",
       "4                   0                  0                    0  ...   \n",
       "\n",
       "   Outlet_Location_Type_Tier 2  Outlet_Location_Type_Tier 3  \\\n",
       "0                            0                            0   \n",
       "1                            0                            1   \n",
       "2                            0                            0   \n",
       "3                            0                            1   \n",
       "4                            0                            1   \n",
       "\n",
       "   Outlet_Type_Grocery Store  Outlet_Type_Supermarket Type1  \\\n",
       "0                          0                              1   \n",
       "1                          0                              0   \n",
       "2                          0                              1   \n",
       "3                          1                              0   \n",
       "4                          0                              1   \n",
       "\n",
       "   Outlet_Type_Supermarket Type2  Outlet_Type_Supermarket Type3  codes_DR  \\\n",
       "0                              0                              0         0   \n",
       "1                              1                              0         1   \n",
       "2                              0                              0         0   \n",
       "3                              0                              0         0   \n",
       "4                              0                              0         0   \n",
       "\n",
       "   codes_FD  codes_NC  Item_Outlet_Sales  \n",
       "0         1         0          3735.1380  \n",
       "1         0         0           443.4228  \n",
       "2         1         0          2097.2700  \n",
       "3         1         0           732.3800  \n",
       "4         0         1           994.7052  \n",
       "\n",
       "[5 rows x 21 columns]"
      ]
     },
     "execution_count": 69,
     "metadata": {},
     "output_type": "execute_result"
    }
   ],
   "source": [
    "bigmarttraindf.head()"
   ]
  },
  {
   "cell_type": "code",
   "execution_count": 70,
   "metadata": {},
   "outputs": [
    {
     "data": {
      "text/html": [
       "<div>\n",
       "<style scoped>\n",
       "    .dataframe tbody tr th:only-of-type {\n",
       "        vertical-align: middle;\n",
       "    }\n",
       "\n",
       "    .dataframe tbody tr th {\n",
       "        vertical-align: top;\n",
       "    }\n",
       "\n",
       "    .dataframe thead th {\n",
       "        text-align: right;\n",
       "    }\n",
       "</style>\n",
       "<table border=\"1\" class=\"dataframe\">\n",
       "  <thead>\n",
       "    <tr style=\"text-align: right;\">\n",
       "      <th></th>\n",
       "      <th>Item_Outlet_Sales</th>\n",
       "    </tr>\n",
       "    <tr>\n",
       "      <th>Item_Fat_Content_Low Fat</th>\n",
       "      <th></th>\n",
       "    </tr>\n",
       "  </thead>\n",
       "  <tbody>\n",
       "    <tr>\n",
       "      <th>0</th>\n",
       "      <td>2224.561170</td>\n",
       "    </tr>\n",
       "    <tr>\n",
       "      <th>1</th>\n",
       "      <td>2157.711534</td>\n",
       "    </tr>\n",
       "  </tbody>\n",
       "</table>\n",
       "</div>"
      ],
      "text/plain": [
       "                          Item_Outlet_Sales\n",
       "Item_Fat_Content_Low Fat                   \n",
       "0                               2224.561170\n",
       "1                               2157.711534"
      ]
     },
     "execution_count": 70,
     "metadata": {},
     "output_type": "execute_result"
    }
   ],
   "source": [
    "#Managment want to know Low Fat or Regular items are equally important or not?\n",
    "bigmarttraindf.groupby('Item_Fat_Content_Low Fat').agg({'Item_Outlet_Sales':'mean'}) #1 - Low Fat # 0 - Regular as used Item_Fat_Content_Low Fat to groupby"
   ]
  },
  {
   "cell_type": "code",
   "execution_count": 71,
   "metadata": {},
   "outputs": [],
   "source": [
    "lowfat = bigmarttraindf[bigmarttraindf['Item_Fat_Content_Low Fat'] == 1]"
   ]
  },
  {
   "cell_type": "code",
   "execution_count": 72,
   "metadata": {},
   "outputs": [],
   "source": [
    "regular = bigmarttraindf[bigmarttraindf['Item_Fat_Content_Regular'] == 1]"
   ]
  },
  {
   "cell_type": "code",
   "execution_count": 73,
   "metadata": {},
   "outputs": [
    {
     "data": {
      "text/plain": [
       "2157.7115339858597"
      ]
     },
     "execution_count": 73,
     "metadata": {},
     "output_type": "execute_result"
    }
   ],
   "source": [
    "lowfat.Item_Outlet_Sales.mean()"
   ]
  },
  {
   "cell_type": "code",
   "execution_count": 74,
   "metadata": {},
   "outputs": [
    {
     "data": {
      "text/plain": [
       "2224.561170126416"
      ]
     },
     "execution_count": 74,
     "metadata": {},
     "output_type": "execute_result"
    }
   ],
   "source": [
    "regular.Item_Outlet_Sales.mean()"
   ]
  },
  {
   "cell_type": "code",
   "execution_count": 75,
   "metadata": {},
   "outputs": [],
   "source": [
    "#ttest_ind() - One Categorical with 2 classes and one numerical Var\n",
    "from scipy.stats import ttest_ind"
   ]
  },
  {
   "cell_type": "code",
   "execution_count": 76,
   "metadata": {},
   "outputs": [
    {
     "data": {
      "text/plain": [
       "Ttest_indResult(statistic=-1.7212101304652045, pvalue=0.0852633946472846)"
      ]
     },
     "execution_count": 76,
     "metadata": {},
     "output_type": "execute_result"
    }
   ],
   "source": [
    "ttest_ind(lowfat.Item_Outlet_Sales, regular.Item_Outlet_Sales, equal_var = False)\n",
    "#Failed to reject Nul Hypothesis - H0 mean of samples are equal"
   ]
  },
  {
   "cell_type": "code",
   "execution_count": 77,
   "metadata": {},
   "outputs": [],
   "source": [
    "#Average Sales for Tier1, Tier2 nd Tier3 cities is same\n",
    "#Anova\n",
    "tier1 = bigmarttraindf[bigmarttraindf['Outlet_Location_Type_Tier 1'] == 1]"
   ]
  },
  {
   "cell_type": "code",
   "execution_count": 78,
   "metadata": {},
   "outputs": [],
   "source": [
    "tier2 = bigmarttraindf[bigmarttraindf['Outlet_Location_Type_Tier 2'] == 1]\n",
    "tier3 = bigmarttraindf[bigmarttraindf['Outlet_Location_Type_Tier 3'] == 1]\n",
    "                       "
   ]
  },
  {
   "cell_type": "code",
   "execution_count": 79,
   "metadata": {},
   "outputs": [
    {
     "name": "stdout",
     "output_type": "stream",
     "text": [
      "1876.9091591289784\n",
      "2323.990558850987\n",
      "2279.6276513432786\n"
     ]
    }
   ],
   "source": [
    "print(tier1.Item_Outlet_Sales.mean())\n",
    "print(tier2.Item_Outlet_Sales.mean())\n",
    "print(tier3.Item_Outlet_Sales.mean())"
   ]
  },
  {
   "cell_type": "code",
   "execution_count": 80,
   "metadata": {},
   "outputs": [],
   "source": [
    "#Anova - One Categorical with more than 2 classes and one numerical Var\n",
    "from scipy.stats import f_oneway"
   ]
  },
  {
   "cell_type": "code",
   "execution_count": 81,
   "metadata": {},
   "outputs": [
    {
     "data": {
      "text/plain": [
       "F_onewayResult(statistic=53.94773987456066, pvalue=5.2228172988842975e-24)"
      ]
     },
     "execution_count": 81,
     "metadata": {},
     "output_type": "execute_result"
    }
   ],
   "source": [
    "f_oneway(tier1.Item_Outlet_Sales,tier2.Item_Outlet_Sales,tier3.Item_Outlet_Sales)\n",
    "#Since P value is less that 0.05 Reject Null\n",
    "#H0 - Samples have equal means\n",
    "#H1 - There is difference between means of Sample"
   ]
  },
  {
   "cell_type": "code",
   "execution_count": 82,
   "metadata": {},
   "outputs": [
    {
     "data": {
      "text/html": [
       "<div>\n",
       "<style scoped>\n",
       "    .dataframe tbody tr th:only-of-type {\n",
       "        vertical-align: middle;\n",
       "    }\n",
       "\n",
       "    .dataframe tbody tr th {\n",
       "        vertical-align: top;\n",
       "    }\n",
       "\n",
       "    .dataframe thead th {\n",
       "        text-align: right;\n",
       "    }\n",
       "</style>\n",
       "<table border=\"1\" class=\"dataframe\">\n",
       "  <thead>\n",
       "    <tr style=\"text-align: right;\">\n",
       "      <th>Outlet_Type</th>\n",
       "      <th>Grocery Store</th>\n",
       "      <th>Supermarket Type1</th>\n",
       "      <th>Supermarket Type2</th>\n",
       "      <th>Supermarket Type3</th>\n",
       "    </tr>\n",
       "    <tr>\n",
       "      <th>Item_Fat_Content</th>\n",
       "      <th></th>\n",
       "      <th></th>\n",
       "      <th></th>\n",
       "      <th></th>\n",
       "    </tr>\n",
       "  </thead>\n",
       "  <tbody>\n",
       "    <tr>\n",
       "      <th>Low Fat</th>\n",
       "      <td>1165</td>\n",
       "      <td>6013</td>\n",
       "      <td>999</td>\n",
       "      <td>1008</td>\n",
       "    </tr>\n",
       "    <tr>\n",
       "      <th>Regular</th>\n",
       "      <td>640</td>\n",
       "      <td>3281</td>\n",
       "      <td>547</td>\n",
       "      <td>551</td>\n",
       "    </tr>\n",
       "  </tbody>\n",
       "</table>\n",
       "</div>"
      ],
      "text/plain": [
       "Outlet_Type       Grocery Store  Supermarket Type1  Supermarket Type2  \\\n",
       "Item_Fat_Content                                                        \n",
       "Low Fat                    1165               6013                999   \n",
       "Regular                     640               3281                547   \n",
       "\n",
       "Outlet_Type       Supermarket Type3  \n",
       "Item_Fat_Content                     \n",
       "Low Fat                        1008  \n",
       "Regular                         551  "
      ]
     },
     "execution_count": 82,
     "metadata": {},
     "output_type": "execute_result"
    }
   ],
   "source": [
    "#What is the content preference of Different Outlet Types\n",
    "pd.crosstab(objectdatadf.Item_Fat_Content, objectdatadf.Outlet_Type)"
   ]
  },
  {
   "cell_type": "code",
   "execution_count": 83,
   "metadata": {},
   "outputs": [],
   "source": [
    "#Both Variables are non Numeric and Categorical\n",
    "#Chi Square test\n",
    "# Null Samples are Independent\n",
    "# Alt Samples are dependent\n",
    "from scipy.stats import chi2_contingency"
   ]
  },
  {
   "cell_type": "code",
   "execution_count": 84,
   "metadata": {},
   "outputs": [
    {
     "data": {
      "text/plain": [
       "(0.017623807274356466,\n",
       " 0.9993810246002263,\n",
       " 3,\n",
       " array([[1167.20114052, 6009.95423824,  999.71909321, 1008.12552802],\n",
       "        [ 637.79885948, 3284.04576176,  546.28090679,  550.87447198]]))"
      ]
     },
     "execution_count": 84,
     "metadata": {},
     "output_type": "execute_result"
    }
   ],
   "source": [
    "chi2_contingency(pd.crosstab(objectdatadf.Item_Fat_Content, objectdatadf.Outlet_Type))\n",
    "#p value 0.99 failed to reject Null"
   ]
  },
  {
   "cell_type": "code",
   "execution_count": 85,
   "metadata": {},
   "outputs": [
    {
     "data": {
      "text/plain": [
       "0    3735.1380\n",
       "1     443.4228\n",
       "2    2097.2700\n",
       "3     732.3800\n",
       "4     994.7052\n",
       "Name: Item_Outlet_Sales, dtype: float64"
      ]
     },
     "execution_count": 85,
     "metadata": {},
     "output_type": "execute_result"
    }
   ],
   "source": [
    "#Structure of dependent Var\n",
    "bigmarttrain.Item_Outlet_Sales.head()"
   ]
  },
  {
   "cell_type": "code",
   "execution_count": 86,
   "metadata": {},
   "outputs": [
    {
     "data": {
      "text/plain": [
       "count     8523.000000\n",
       "mean      2181.288914\n",
       "std       1706.499616\n",
       "min         33.290000\n",
       "25%        834.247400\n",
       "50%       1794.331000\n",
       "75%       3101.296400\n",
       "max      13086.964800\n",
       "Name: Item_Outlet_Sales, dtype: float64"
      ]
     },
     "execution_count": 86,
     "metadata": {},
     "output_type": "execute_result"
    }
   ],
   "source": [
    "bigmarttrain.Item_Outlet_Sales.describe()"
   ]
  },
  {
   "cell_type": "code",
   "execution_count": 87,
   "metadata": {},
   "outputs": [
    {
     "data": {
      "text/plain": [
       "<matplotlib.axes._subplots.AxesSubplot at 0x1bf8cdfcca0>"
      ]
     },
     "execution_count": 87,
     "metadata": {},
     "output_type": "execute_result"
    },
    {
     "data": {
      "image/png": "[encoded data removed]",
      "text/plain": [
       "<Figure size 432x288 with 1 Axes>"
      ]
     },
     "metadata": {
      "needs_background": "light"
     },
     "output_type": "display_data"
    }
   ],
   "source": [
    "bigmarttrain.Item_Outlet_Sales.plot(kind = 'box', vert = False) #Has Outliers"
   ]
  },
  {
   "cell_type": "code",
   "execution_count": 88,
   "metadata": {},
   "outputs": [
    {
     "data": {
      "text/plain": [
       "<matplotlib.axes._subplots.AxesSubplot at 0x1bf8ce66850>"
      ]
     },
     "execution_count": 88,
     "metadata": {},
     "output_type": "execute_result"
    },
    {
     "data": {
      "image/png": "[encoded data removed]",
      "text/plain": [
       "<Figure size 432x288 with 1 Axes>"
      ]
     },
     "metadata": {
      "needs_background": "light"
     },
     "output_type": "display_data"
    }
   ],
   "source": [
    "bigmarttrain.Item_Outlet_Sales.plot(kind = 'density') #Positive Skewness"
   ]
  },
  {
   "cell_type": "code",
   "execution_count": 89,
   "metadata": {},
   "outputs": [],
   "source": [
    "target = np.sqrt(bigmarttrain.Item_Outlet_Sales)"
   ]
  },
  {
   "cell_type": "code",
   "execution_count": 90,
   "metadata": {},
   "outputs": [],
   "source": [
    "target = pd.Series(target)"
   ]
  },
  {
   "cell_type": "code",
   "execution_count": 91,
   "metadata": {},
   "outputs": [],
   "source": [
    "#Splitting data into dependent and Independent\n",
    "X = bigmarttraindf.drop('Item_Outlet_Sales', axis = 1)\n",
    "y = target"
   ]
  },
  {
   "cell_type": "code",
   "execution_count": 92,
   "metadata": {},
   "outputs": [],
   "source": [
    "from sklearn.linear_model import LinearRegression"
   ]
  },
  {
   "cell_type": "code",
   "execution_count": 93,
   "metadata": {},
   "outputs": [],
   "source": [
    "LinReg = LinearRegression()"
   ]
  },
  {
   "cell_type": "code",
   "execution_count": 94,
   "metadata": {},
   "outputs": [],
   "source": [
    "LinRegmodel = LinReg.fit(X,y)"
   ]
  },
  {
   "cell_type": "code",
   "execution_count": 95,
   "metadata": {},
   "outputs": [
    {
     "data": {
      "text/plain": [
       "0.656280986991133"
      ]
     },
     "execution_count": 95,
     "metadata": {},
     "output_type": "execute_result"
    }
   ],
   "source": [
    "LinRegmodel.score(X,y)"
   ]
  },
  {
   "cell_type": "code",
   "execution_count": 96,
   "metadata": {},
   "outputs": [],
   "source": [
    "y_pred = LinRegmodel.predict(X)"
   ]
  },
  {
   "cell_type": "code",
   "execution_count": 97,
   "metadata": {},
   "outputs": [],
   "source": [
    "from sklearn.metrics import mean_squared_error"
   ]
  },
  {
   "cell_type": "code",
   "execution_count": 98,
   "metadata": {},
   "outputs": [
    {
     "data": {
      "text/plain": [
       "1096.923892120909"
      ]
     },
     "execution_count": 98,
     "metadata": {},
     "output_type": "execute_result"
    }
   ],
   "source": [
    "rmse = np.sqrt(mean_squared_error(np.square(y_pred), np.square(y)))\n",
    "rmse"
   ]
  },
  {
   "cell_type": "code",
   "execution_count": 99,
   "metadata": {},
   "outputs": [
    {
     "data": {
      "text/html": [
       "<div>\n",
       "<style scoped>\n",
       "    .dataframe tbody tr th:only-of-type {\n",
       "        vertical-align: middle;\n",
       "    }\n",
       "\n",
       "    .dataframe tbody tr th {\n",
       "        vertical-align: top;\n",
       "    }\n",
       "\n",
       "    .dataframe thead th {\n",
       "        text-align: right;\n",
       "    }\n",
       "</style>\n",
       "<table border=\"1\" class=\"dataframe\">\n",
       "  <thead>\n",
       "    <tr style=\"text-align: right;\">\n",
       "      <th></th>\n",
       "      <th>Item_Weight</th>\n",
       "      <th>Item_Visibility</th>\n",
       "      <th>Item_MRP</th>\n",
       "      <th>Outlet_Age</th>\n",
       "      <th>Item_Fat_Content_Low Fat</th>\n",
       "      <th>Item_Fat_Content_Regular</th>\n",
       "      <th>Outlet_Size_High</th>\n",
       "      <th>Outlet_Size_Medium</th>\n",
       "      <th>Outlet_Size_Small</th>\n",
       "      <th>Outlet_Size_unknown</th>\n",
       "      <th>...</th>\n",
       "      <th>Outlet_Location_Type_Tier 2</th>\n",
       "      <th>Outlet_Location_Type_Tier 3</th>\n",
       "      <th>Outlet_Type_Grocery Store</th>\n",
       "      <th>Outlet_Type_Supermarket Type1</th>\n",
       "      <th>Outlet_Type_Supermarket Type2</th>\n",
       "      <th>Outlet_Type_Supermarket Type3</th>\n",
       "      <th>codes_DR</th>\n",
       "      <th>codes_FD</th>\n",
       "      <th>codes_NC</th>\n",
       "      <th>Item_Outlet_Sales</th>\n",
       "    </tr>\n",
       "  </thead>\n",
       "  <tbody>\n",
       "    <tr>\n",
       "      <th>Item_Weight</th>\n",
       "      <td>1.000000</td>\n",
       "      <td>-0.018773</td>\n",
       "      <td>0.024951</td>\n",
       "      <td>-0.007739</td>\n",
       "      <td>0.021092</td>\n",
       "      <td>-0.021092</td>\n",
       "      <td>0.015976</td>\n",
       "      <td>-0.002791</td>\n",
       "      <td>-0.002981</td>\n",
       "      <td>-0.005190</td>\n",
       "      <td>...</td>\n",
       "      <td>-0.007382</td>\n",
       "      <td>0.005174</td>\n",
       "      <td>-0.004778</td>\n",
       "      <td>0.011747</td>\n",
       "      <td>0.004956</td>\n",
       "      <td>-0.017723</td>\n",
       "      <td>-0.050156</td>\n",
       "      <td>-0.008183</td>\n",
       "      <td>0.046872</td>\n",
       "      <td>0.009693</td>\n",
       "    </tr>\n",
       "    <tr>\n",
       "      <th>Item_Visibility</th>\n",
       "      <td>-0.018773</td>\n",
       "      <td>1.000000</td>\n",
       "      <td>-0.004537</td>\n",
       "      <td>0.078273</td>\n",
       "      <td>-0.049794</td>\n",
       "      <td>0.049794</td>\n",
       "      <td>-0.043643</td>\n",
       "      <td>-0.083994</td>\n",
       "      <td>0.066331</td>\n",
       "      <td>0.051642</td>\n",
       "      <td>...</td>\n",
       "      <td>-0.073390</td>\n",
       "      <td>0.011844</td>\n",
       "      <td>0.299205</td>\n",
       "      <td>-0.152831</td>\n",
       "      <td>-0.033374</td>\n",
       "      <td>-0.053023</td>\n",
       "      <td>-0.012531</td>\n",
       "      <td>0.068443</td>\n",
       "      <td>-0.069477</td>\n",
       "      <td>-0.134097</td>\n",
       "    </tr>\n",
       "    <tr>\n",
       "      <th>Item_MRP</th>\n",
       "      <td>0.024951</td>\n",
       "      <td>-0.004537</td>\n",
       "      <td>1.000000</td>\n",
       "      <td>-0.005020</td>\n",
       "      <td>-0.006063</td>\n",
       "      <td>0.006063</td>\n",
       "      <td>0.002438</td>\n",
       "      <td>-0.004510</td>\n",
       "      <td>0.009793</td>\n",
       "      <td>-0.006754</td>\n",
       "      <td>...</td>\n",
       "      <td>0.001951</td>\n",
       "      <td>-0.000744</td>\n",
       "      <td>-0.004277</td>\n",
       "      <td>0.004885</td>\n",
       "      <td>0.003850</td>\n",
       "      <td>-0.006714</td>\n",
       "      <td>-0.051733</td>\n",
       "      <td>0.029315</td>\n",
       "      <td>0.004859</td>\n",
       "      <td>0.567574</td>\n",
       "    </tr>\n",
       "    <tr>\n",
       "      <th>Outlet_Age</th>\n",
       "      <td>-0.007739</td>\n",
       "      <td>0.078273</td>\n",
       "      <td>-0.005020</td>\n",
       "      <td>1.000000</td>\n",
       "      <td>0.003151</td>\n",
       "      <td>-0.003151</td>\n",
       "      <td>0.453388</td>\n",
       "      <td>0.016346</td>\n",
       "      <td>0.056567</td>\n",
       "      <td>-0.387636</td>\n",
       "      <td>...</td>\n",
       "      <td>-0.540820</td>\n",
       "      <td>0.333895</td>\n",
       "      <td>0.281196</td>\n",
       "      <td>-0.245070</td>\n",
       "      <td>-0.466336</td>\n",
       "      <td>0.538072</td>\n",
       "      <td>-0.009441</td>\n",
       "      <td>0.002312</td>\n",
       "      <td>0.004385</td>\n",
       "      <td>0.049135</td>\n",
       "    </tr>\n",
       "    <tr>\n",
       "      <th>Item_Fat_Content_Low Fat</th>\n",
       "      <td>0.021092</td>\n",
       "      <td>-0.049794</td>\n",
       "      <td>-0.006063</td>\n",
       "      <td>0.003151</td>\n",
       "      <td>1.000000</td>\n",
       "      <td>-1.000000</td>\n",
       "      <td>0.002132</td>\n",
       "      <td>-0.004671</td>\n",
       "      <td>0.002313</td>\n",
       "      <td>0.001085</td>\n",
       "      <td>...</td>\n",
       "      <td>0.003272</td>\n",
       "      <td>-0.000241</td>\n",
       "      <td>0.002924</td>\n",
       "      <td>-0.000533</td>\n",
       "      <td>-0.002129</td>\n",
       "      <td>-0.000183</td>\n",
       "      <td>0.177593</td>\n",
       "      <td>-0.423092</td>\n",
       "      <td>0.354722</td>\n",
       "      <td>-0.018719</td>\n",
       "    </tr>\n",
       "    <tr>\n",
       "      <th>Item_Fat_Content_Regular</th>\n",
       "      <td>-0.021092</td>\n",
       "      <td>0.049794</td>\n",
       "      <td>0.006063</td>\n",
       "      <td>-0.003151</td>\n",
       "      <td>-1.000000</td>\n",
       "      <td>1.000000</td>\n",
       "      <td>-0.002132</td>\n",
       "      <td>0.004671</td>\n",
       "      <td>-0.002313</td>\n",
       "      <td>-0.001085</td>\n",
       "      <td>...</td>\n",
       "      <td>-0.003272</td>\n",
       "      <td>0.000241</td>\n",
       "      <td>-0.002924</td>\n",
       "      <td>0.000533</td>\n",
       "      <td>0.002129</td>\n",
       "      <td>0.000183</td>\n",
       "      <td>-0.177593</td>\n",
       "      <td>0.423092</td>\n",
       "      <td>-0.354722</td>\n",
       "      <td>0.018719</td>\n",
       "    </tr>\n",
       "    <tr>\n",
       "      <th>Outlet_Size_High</th>\n",
       "      <td>0.015976</td>\n",
       "      <td>-0.043643</td>\n",
       "      <td>0.002438</td>\n",
       "      <td>0.453388</td>\n",
       "      <td>0.002132</td>\n",
       "      <td>-0.002132</td>\n",
       "      <td>1.000000</td>\n",
       "      <td>-0.244634</td>\n",
       "      <td>-0.218609</td>\n",
       "      <td>-0.220009</td>\n",
       "      <td>...</td>\n",
       "      <td>-0.244113</td>\n",
       "      <td>0.435419</td>\n",
       "      <td>-0.133686</td>\n",
       "      <td>0.254668</td>\n",
       "      <td>-0.122481</td>\n",
       "      <td>-0.122999</td>\n",
       "      <td>-0.000479</td>\n",
       "      <td>-0.003993</td>\n",
       "      <td>0.004957</td>\n",
       "      <td>0.024170</td>\n",
       "    </tr>\n",
       "    <tr>\n",
       "      <th>Outlet_Size_Medium</th>\n",
       "      <td>-0.002791</td>\n",
       "      <td>-0.083994</td>\n",
       "      <td>-0.004510</td>\n",
       "      <td>0.016346</td>\n",
       "      <td>-0.004671</td>\n",
       "      <td>0.004671</td>\n",
       "      <td>-0.244634</td>\n",
       "      <td>1.000000</td>\n",
       "      <td>-0.435580</td>\n",
       "      <td>-0.438369</td>\n",
       "      <td>...</td>\n",
       "      <td>-0.486397</td>\n",
       "      <td>0.391617</td>\n",
       "      <td>-0.266370</td>\n",
       "      <td>-0.471782</td>\n",
       "      <td>0.500670</td>\n",
       "      <td>0.502787</td>\n",
       "      <td>-0.005003</td>\n",
       "      <td>0.010467</td>\n",
       "      <td>-0.008320</td>\n",
       "      <td>0.204701</td>\n",
       "    </tr>\n",
       "    <tr>\n",
       "      <th>Outlet_Size_Small</th>\n",
       "      <td>-0.002981</td>\n",
       "      <td>0.066331</td>\n",
       "      <td>0.009793</td>\n",
       "      <td>0.056567</td>\n",
       "      <td>0.002313</td>\n",
       "      <td>-0.002313</td>\n",
       "      <td>-0.218609</td>\n",
       "      <td>-0.435580</td>\n",
       "      <td>1.000000</td>\n",
       "      <td>-0.391734</td>\n",
       "      <td>...</td>\n",
       "      <td>0.083381</td>\n",
       "      <td>-0.502066</td>\n",
       "      <td>0.176158</td>\n",
       "      <td>0.163388</td>\n",
       "      <td>-0.218082</td>\n",
       "      <td>-0.219004</td>\n",
       "      <td>-0.003465</td>\n",
       "      <td>0.002254</td>\n",
       "      <td>-0.000008</td>\n",
       "      <td>-0.098403</td>\n",
       "    </tr>\n",
       "    <tr>\n",
       "      <th>Outlet_Size_unknown</th>\n",
       "      <td>-0.005190</td>\n",
       "      <td>0.051642</td>\n",
       "      <td>-0.006754</td>\n",
       "      <td>-0.387636</td>\n",
       "      <td>0.001085</td>\n",
       "      <td>-0.001085</td>\n",
       "      <td>-0.220009</td>\n",
       "      <td>-0.438369</td>\n",
       "      <td>-0.391734</td>\n",
       "      <td>1.000000</td>\n",
       "      <td>...</td>\n",
       "      <td>0.592970</td>\n",
       "      <td>-0.209237</td>\n",
       "      <td>0.194602</td>\n",
       "      <td>0.152308</td>\n",
       "      <td>-0.219478</td>\n",
       "      <td>-0.220406</td>\n",
       "      <td>0.009002</td>\n",
       "      <td>-0.010389</td>\n",
       "      <td>0.005245</td>\n",
       "      <td>-0.131973</td>\n",
       "    </tr>\n",
       "    <tr>\n",
       "      <th>Outlet_Location_Type_Tier 1</th>\n",
       "      <td>0.002083</td>\n",
       "      <td>0.063768</td>\n",
       "      <td>-0.001229</td>\n",
       "      <td>0.201690</td>\n",
       "      <td>-0.003155</td>\n",
       "      <td>0.003155</td>\n",
       "      <td>-0.218609</td>\n",
       "      <td>0.082072</td>\n",
       "      <td>0.458964</td>\n",
       "      <td>-0.391734</td>\n",
       "      <td>...</td>\n",
       "      <td>-0.434653</td>\n",
       "      <td>-0.502066</td>\n",
       "      <td>0.176158</td>\n",
       "      <td>0.163388</td>\n",
       "      <td>-0.218082</td>\n",
       "      <td>-0.219004</td>\n",
       "      <td>0.001016</td>\n",
       "      <td>0.001673</td>\n",
       "      <td>-0.002685</td>\n",
       "      <td>-0.111287</td>\n",
       "    </tr>\n",
       "    <tr>\n",
       "      <th>Outlet_Location_Type_Tier 2</th>\n",
       "      <td>-0.007382</td>\n",
       "      <td>-0.073390</td>\n",
       "      <td>0.001951</td>\n",
       "      <td>-0.540820</td>\n",
       "      <td>0.003272</td>\n",
       "      <td>-0.003272</td>\n",
       "      <td>-0.244113</td>\n",
       "      <td>-0.486397</td>\n",
       "      <td>0.083381</td>\n",
       "      <td>0.592970</td>\n",
       "      <td>...</td>\n",
       "      <td>1.000000</td>\n",
       "      <td>-0.560639</td>\n",
       "      <td>-0.265803</td>\n",
       "      <td>0.506347</td>\n",
       "      <td>-0.243524</td>\n",
       "      <td>-0.244554</td>\n",
       "      <td>0.007652</td>\n",
       "      <td>-0.000235</td>\n",
       "      <td>-0.005443</td>\n",
       "      <td>0.058261</td>\n",
       "    </tr>\n",
       "    <tr>\n",
       "      <th>Outlet_Location_Type_Tier 3</th>\n",
       "      <td>0.005174</td>\n",
       "      <td>0.011844</td>\n",
       "      <td>-0.000744</td>\n",
       "      <td>0.333895</td>\n",
       "      <td>-0.000241</td>\n",
       "      <td>0.000241</td>\n",
       "      <td>0.435419</td>\n",
       "      <td>0.391617</td>\n",
       "      <td>-0.502066</td>\n",
       "      <td>-0.209237</td>\n",
       "      <td>...</td>\n",
       "      <td>-0.560639</td>\n",
       "      <td>1.000000</td>\n",
       "      <td>0.093276</td>\n",
       "      <td>-0.636465</td>\n",
       "      <td>0.434369</td>\n",
       "      <td>0.436205</td>\n",
       "      <td>-0.008283</td>\n",
       "      <td>-0.001312</td>\n",
       "      <td>0.007695</td>\n",
       "      <td>0.046376</td>\n",
       "    </tr>\n",
       "    <tr>\n",
       "      <th>Outlet_Type_Grocery Store</th>\n",
       "      <td>-0.004778</td>\n",
       "      <td>0.299205</td>\n",
       "      <td>-0.004277</td>\n",
       "      <td>0.281196</td>\n",
       "      <td>0.002924</td>\n",
       "      <td>-0.002924</td>\n",
       "      <td>-0.133686</td>\n",
       "      <td>-0.266370</td>\n",
       "      <td>0.176158</td>\n",
       "      <td>0.194602</td>\n",
       "      <td>...</td>\n",
       "      <td>-0.265803</td>\n",
       "      <td>0.093276</td>\n",
       "      <td>1.000000</td>\n",
       "      <td>-0.524942</td>\n",
       "      <td>-0.133364</td>\n",
       "      <td>-0.133928</td>\n",
       "      <td>-0.003055</td>\n",
       "      <td>-0.005712</td>\n",
       "      <td>0.008860</td>\n",
       "      <td>-0.411727</td>\n",
       "    </tr>\n",
       "    <tr>\n",
       "      <th>Outlet_Type_Supermarket Type1</th>\n",
       "      <td>0.011747</td>\n",
       "      <td>-0.152831</td>\n",
       "      <td>0.004885</td>\n",
       "      <td>-0.245070</td>\n",
       "      <td>-0.000533</td>\n",
       "      <td>0.000533</td>\n",
       "      <td>0.254668</td>\n",
       "      <td>-0.471782</td>\n",
       "      <td>0.163388</td>\n",
       "      <td>0.152308</td>\n",
       "      <td>...</td>\n",
       "      <td>0.506347</td>\n",
       "      <td>-0.636465</td>\n",
       "      <td>-0.524942</td>\n",
       "      <td>1.000000</td>\n",
       "      <td>-0.480943</td>\n",
       "      <td>-0.482977</td>\n",
       "      <td>0.011999</td>\n",
       "      <td>-0.003772</td>\n",
       "      <td>-0.004614</td>\n",
       "      <td>0.108765</td>\n",
       "    </tr>\n",
       "    <tr>\n",
       "      <th>Outlet_Type_Supermarket Type2</th>\n",
       "      <td>0.004956</td>\n",
       "      <td>-0.033374</td>\n",
       "      <td>0.003850</td>\n",
       "      <td>-0.466336</td>\n",
       "      <td>-0.002129</td>\n",
       "      <td>0.002129</td>\n",
       "      <td>-0.122481</td>\n",
       "      <td>0.500670</td>\n",
       "      <td>-0.218082</td>\n",
       "      <td>-0.219478</td>\n",
       "      <td>...</td>\n",
       "      <td>-0.243524</td>\n",
       "      <td>0.434369</td>\n",
       "      <td>-0.133364</td>\n",
       "      <td>-0.480943</td>\n",
       "      <td>1.000000</td>\n",
       "      <td>-0.122702</td>\n",
       "      <td>-0.003872</td>\n",
       "      <td>0.003433</td>\n",
       "      <td>-0.001063</td>\n",
       "      <td>-0.038059</td>\n",
       "    </tr>\n",
       "    <tr>\n",
       "      <th>Outlet_Type_Supermarket Type3</th>\n",
       "      <td>-0.017723</td>\n",
       "      <td>-0.053023</td>\n",
       "      <td>-0.006714</td>\n",
       "      <td>0.538072</td>\n",
       "      <td>-0.000183</td>\n",
       "      <td>0.000183</td>\n",
       "      <td>-0.122999</td>\n",
       "      <td>0.502787</td>\n",
       "      <td>-0.219004</td>\n",
       "      <td>-0.220406</td>\n",
       "      <td>...</td>\n",
       "      <td>-0.244554</td>\n",
       "      <td>0.436205</td>\n",
       "      <td>-0.133928</td>\n",
       "      <td>-0.482977</td>\n",
       "      <td>-0.122702</td>\n",
       "      <td>1.000000</td>\n",
       "      <td>-0.011145</td>\n",
       "      <td>0.008406</td>\n",
       "      <td>-0.001361</td>\n",
       "      <td>0.311192</td>\n",
       "    </tr>\n",
       "    <tr>\n",
       "      <th>codes_DR</th>\n",
       "      <td>-0.050156</td>\n",
       "      <td>-0.012531</td>\n",
       "      <td>-0.051733</td>\n",
       "      <td>-0.009441</td>\n",
       "      <td>0.177593</td>\n",
       "      <td>-0.177593</td>\n",
       "      <td>-0.000479</td>\n",
       "      <td>-0.005003</td>\n",
       "      <td>-0.003465</td>\n",
       "      <td>0.009002</td>\n",
       "      <td>...</td>\n",
       "      <td>0.007652</td>\n",
       "      <td>-0.008283</td>\n",
       "      <td>-0.003055</td>\n",
       "      <td>0.011999</td>\n",
       "      <td>-0.003872</td>\n",
       "      <td>-0.011145</td>\n",
       "      <td>1.000000</td>\n",
       "      <td>-0.514021</td>\n",
       "      <td>-0.154560</td>\n",
       "      <td>-0.034672</td>\n",
       "    </tr>\n",
       "    <tr>\n",
       "      <th>codes_FD</th>\n",
       "      <td>-0.008183</td>\n",
       "      <td>0.068443</td>\n",
       "      <td>0.029315</td>\n",
       "      <td>0.002312</td>\n",
       "      <td>-0.423092</td>\n",
       "      <td>0.423092</td>\n",
       "      <td>-0.003993</td>\n",
       "      <td>0.010467</td>\n",
       "      <td>0.002254</td>\n",
       "      <td>-0.010389</td>\n",
       "      <td>...</td>\n",
       "      <td>-0.000235</td>\n",
       "      <td>-0.001312</td>\n",
       "      <td>-0.005712</td>\n",
       "      <td>-0.003772</td>\n",
       "      <td>0.003433</td>\n",
       "      <td>0.008406</td>\n",
       "      <td>-0.514021</td>\n",
       "      <td>1.000000</td>\n",
       "      <td>-0.768023</td>\n",
       "      <td>0.031905</td>\n",
       "    </tr>\n",
       "    <tr>\n",
       "      <th>codes_NC</th>\n",
       "      <td>0.046872</td>\n",
       "      <td>-0.069477</td>\n",
       "      <td>0.004859</td>\n",
       "      <td>0.004385</td>\n",
       "      <td>0.354722</td>\n",
       "      <td>-0.354722</td>\n",
       "      <td>0.004957</td>\n",
       "      <td>-0.008320</td>\n",
       "      <td>-0.000008</td>\n",
       "      <td>0.005245</td>\n",
       "      <td>...</td>\n",
       "      <td>-0.005443</td>\n",
       "      <td>0.007695</td>\n",
       "      <td>0.008860</td>\n",
       "      <td>-0.004614</td>\n",
       "      <td>-0.001063</td>\n",
       "      <td>-0.001361</td>\n",
       "      <td>-0.154560</td>\n",
       "      <td>-0.768023</td>\n",
       "      <td>1.000000</td>\n",
       "      <td>-0.010861</td>\n",
       "    </tr>\n",
       "    <tr>\n",
       "      <th>Item_Outlet_Sales</th>\n",
       "      <td>0.009693</td>\n",
       "      <td>-0.134097</td>\n",
       "      <td>0.567574</td>\n",
       "      <td>0.049135</td>\n",
       "      <td>-0.018719</td>\n",
       "      <td>0.018719</td>\n",
       "      <td>0.024170</td>\n",
       "      <td>0.204701</td>\n",
       "      <td>-0.098403</td>\n",
       "      <td>-0.131973</td>\n",
       "      <td>...</td>\n",
       "      <td>0.058261</td>\n",
       "      <td>0.046376</td>\n",
       "      <td>-0.411727</td>\n",
       "      <td>0.108765</td>\n",
       "      <td>-0.038059</td>\n",
       "      <td>0.311192</td>\n",
       "      <td>-0.034672</td>\n",
       "      <td>0.031905</td>\n",
       "      <td>-0.010861</td>\n",
       "      <td>1.000000</td>\n",
       "    </tr>\n",
       "  </tbody>\n",
       "</table>\n",
       "<p>21 rows × 21 columns</p>\n",
       "</div>"
      ],
      "text/plain": [
       "                               Item_Weight  Item_Visibility  Item_MRP  \\\n",
       "Item_Weight                       1.000000        -0.018773  0.024951   \n",
       "Item_Visibility                  -0.018773         1.000000 -0.004537   \n",
       "Item_MRP                          0.024951        -0.004537  1.000000   \n",
       "Outlet_Age                       -0.007739         0.078273 -0.005020   \n",
       "Item_Fat_Content_Low Fat          0.021092        -0.049794 -0.006063   \n",
       "Item_Fat_Content_Regular         -0.021092         0.049794  0.006063   \n",
       "Outlet_Size_High                  0.015976        -0.043643  0.002438   \n",
       "Outlet_Size_Medium               -0.002791        -0.083994 -0.004510   \n",
       "Outlet_Size_Small                -0.002981         0.066331  0.009793   \n",
       "Outlet_Size_unknown              -0.005190         0.051642 -0.006754   \n",
       "Outlet_Location_Type_Tier 1       0.002083         0.063768 -0.001229   \n",
       "Outlet_Location_Type_Tier 2      -0.007382        -0.073390  0.001951   \n",
       "Outlet_Location_Type_Tier 3       0.005174         0.011844 -0.000744   \n",
       "Outlet_Type_Grocery Store        -0.004778         0.299205 -0.004277   \n",
       "Outlet_Type_Supermarket Type1     0.011747        -0.152831  0.004885   \n",
       "Outlet_Type_Supermarket Type2     0.004956        -0.033374  0.003850   \n",
       "Outlet_Type_Supermarket Type3    -0.017723        -0.053023 -0.006714   \n",
       "codes_DR                         -0.050156        -0.012531 -0.051733   \n",
       "codes_FD                         -0.008183         0.068443  0.029315   \n",
       "codes_NC                          0.046872        -0.069477  0.004859   \n",
       "Item_Outlet_Sales                 0.009693        -0.134097  0.567574   \n",
       "\n",
       "                               Outlet_Age  Item_Fat_Content_Low Fat  \\\n",
       "Item_Weight                     -0.007739                  0.021092   \n",
       "Item_Visibility                  0.078273                 -0.049794   \n",
       "Item_MRP                        -0.005020                 -0.006063   \n",
       "Outlet_Age                       1.000000                  0.003151   \n",
       "Item_Fat_Content_Low Fat         0.003151                  1.000000   \n",
       "Item_Fat_Content_Regular        -0.003151                 -1.000000   \n",
       "Outlet_Size_High                 0.453388                  0.002132   \n",
       "Outlet_Size_Medium               0.016346                 -0.004671   \n",
       "Outlet_Size_Small                0.056567                  0.002313   \n",
       "Outlet_Size_unknown             -0.387636                  0.001085   \n",
       "Outlet_Location_Type_Tier 1      0.201690                 -0.003155   \n",
       "Outlet_Location_Type_Tier 2     -0.540820                  0.003272   \n",
       "Outlet_Location_Type_Tier 3      0.333895                 -0.000241   \n",
       "Outlet_Type_Grocery Store        0.281196                  0.002924   \n",
       "Outlet_Type_Supermarket Type1   -0.245070                 -0.000533   \n",
       "Outlet_Type_Supermarket Type2   -0.466336                 -0.002129   \n",
       "Outlet_Type_Supermarket Type3    0.538072                 -0.000183   \n",
       "codes_DR                        -0.009441                  0.177593   \n",
       "codes_FD                         0.002312                 -0.423092   \n",
       "codes_NC                         0.004385                  0.354722   \n",
       "Item_Outlet_Sales                0.049135                 -0.018719   \n",
       "\n",
       "                               Item_Fat_Content_Regular  Outlet_Size_High  \\\n",
       "Item_Weight                                   -0.021092          0.015976   \n",
       "Item_Visibility                                0.049794         -0.043643   \n",
       "Item_MRP                                       0.006063          0.002438   \n",
       "Outlet_Age                                    -0.003151          0.453388   \n",
       "Item_Fat_Content_Low Fat                      -1.000000          0.002132   \n",
       "Item_Fat_Content_Regular                       1.000000         -0.002132   \n",
       "Outlet_Size_High                              -0.002132          1.000000   \n",
       "Outlet_Size_Medium                             0.004671         -0.244634   \n",
       "Outlet_Size_Small                             -0.002313         -0.218609   \n",
       "Outlet_Size_unknown                           -0.001085         -0.220009   \n",
       "Outlet_Location_Type_Tier 1                    0.003155         -0.218609   \n",
       "Outlet_Location_Type_Tier 2                   -0.003272         -0.244113   \n",
       "Outlet_Location_Type_Tier 3                    0.000241          0.435419   \n",
       "Outlet_Type_Grocery Store                     -0.002924         -0.133686   \n",
       "Outlet_Type_Supermarket Type1                  0.000533          0.254668   \n",
       "Outlet_Type_Supermarket Type2                  0.002129         -0.122481   \n",
       "Outlet_Type_Supermarket Type3                  0.000183         -0.122999   \n",
       "codes_DR                                      -0.177593         -0.000479   \n",
       "codes_FD                                       0.423092         -0.003993   \n",
       "codes_NC                                      -0.354722          0.004957   \n",
       "Item_Outlet_Sales                              0.018719          0.024170   \n",
       "\n",
       "                               Outlet_Size_Medium  Outlet_Size_Small  \\\n",
       "Item_Weight                             -0.002791          -0.002981   \n",
       "Item_Visibility                         -0.083994           0.066331   \n",
       "Item_MRP                                -0.004510           0.009793   \n",
       "Outlet_Age                               0.016346           0.056567   \n",
       "Item_Fat_Content_Low Fat                -0.004671           0.002313   \n",
       "Item_Fat_Content_Regular                 0.004671          -0.002313   \n",
       "Outlet_Size_High                        -0.244634          -0.218609   \n",
       "Outlet_Size_Medium                       1.000000          -0.435580   \n",
       "Outlet_Size_Small                       -0.435580           1.000000   \n",
       "Outlet_Size_unknown                     -0.438369          -0.391734   \n",
       "Outlet_Location_Type_Tier 1              0.082072           0.458964   \n",
       "Outlet_Location_Type_Tier 2             -0.486397           0.083381   \n",
       "Outlet_Location_Type_Tier 3              0.391617          -0.502066   \n",
       "Outlet_Type_Grocery Store               -0.266370           0.176158   \n",
       "Outlet_Type_Supermarket Type1           -0.471782           0.163388   \n",
       "Outlet_Type_Supermarket Type2            0.500670          -0.218082   \n",
       "Outlet_Type_Supermarket Type3            0.502787          -0.219004   \n",
       "codes_DR                                -0.005003          -0.003465   \n",
       "codes_FD                                 0.010467           0.002254   \n",
       "codes_NC                                -0.008320          -0.000008   \n",
       "Item_Outlet_Sales                        0.204701          -0.098403   \n",
       "\n",
       "                               Outlet_Size_unknown  ...  \\\n",
       "Item_Weight                              -0.005190  ...   \n",
       "Item_Visibility                           0.051642  ...   \n",
       "Item_MRP                                 -0.006754  ...   \n",
       "Outlet_Age                               -0.387636  ...   \n",
       "Item_Fat_Content_Low Fat                  0.001085  ...   \n",
       "Item_Fat_Content_Regular                 -0.001085  ...   \n",
       "Outlet_Size_High                         -0.220009  ...   \n",
       "Outlet_Size_Medium                       -0.438369  ...   \n",
       "Outlet_Size_Small                        -0.391734  ...   \n",
       "Outlet_Size_unknown                       1.000000  ...   \n",
       "Outlet_Location_Type_Tier 1              -0.391734  ...   \n",
       "Outlet_Location_Type_Tier 2               0.592970  ...   \n",
       "Outlet_Location_Type_Tier 3              -0.209237  ...   \n",
       "Outlet_Type_Grocery Store                 0.194602  ...   \n",
       "Outlet_Type_Supermarket Type1             0.152308  ...   \n",
       "Outlet_Type_Supermarket Type2            -0.219478  ...   \n",
       "Outlet_Type_Supermarket Type3            -0.220406  ...   \n",
       "codes_DR                                  0.009002  ...   \n",
       "codes_FD                                 -0.010389  ...   \n",
       "codes_NC                                  0.005245  ...   \n",
       "Item_Outlet_Sales                        -0.131973  ...   \n",
       "\n",
       "                               Outlet_Location_Type_Tier 2  \\\n",
       "Item_Weight                                      -0.007382   \n",
       "Item_Visibility                                  -0.073390   \n",
       "Item_MRP                                          0.001951   \n",
       "Outlet_Age                                       -0.540820   \n",
       "Item_Fat_Content_Low Fat                          0.003272   \n",
       "Item_Fat_Content_Regular                         -0.003272   \n",
       "Outlet_Size_High                                 -0.244113   \n",
       "Outlet_Size_Medium                               -0.486397   \n",
       "Outlet_Size_Small                                 0.083381   \n",
       "Outlet_Size_unknown                               0.592970   \n",
       "Outlet_Location_Type_Tier 1                      -0.434653   \n",
       "Outlet_Location_Type_Tier 2                       1.000000   \n",
       "Outlet_Location_Type_Tier 3                      -0.560639   \n",
       "Outlet_Type_Grocery Store                        -0.265803   \n",
       "Outlet_Type_Supermarket Type1                     0.506347   \n",
       "Outlet_Type_Supermarket Type2                    -0.243524   \n",
       "Outlet_Type_Supermarket Type3                    -0.244554   \n",
       "codes_DR                                          0.007652   \n",
       "codes_FD                                         -0.000235   \n",
       "codes_NC                                         -0.005443   \n",
       "Item_Outlet_Sales                                 0.058261   \n",
       "\n",
       "                               Outlet_Location_Type_Tier 3  \\\n",
       "Item_Weight                                       0.005174   \n",
       "Item_Visibility                                   0.011844   \n",
       "Item_MRP                                         -0.000744   \n",
       "Outlet_Age                                        0.333895   \n",
       "Item_Fat_Content_Low Fat                         -0.000241   \n",
       "Item_Fat_Content_Regular                          0.000241   \n",
       "Outlet_Size_High                                  0.435419   \n",
       "Outlet_Size_Medium                                0.391617   \n",
       "Outlet_Size_Small                                -0.502066   \n",
       "Outlet_Size_unknown                              -0.209237   \n",
       "Outlet_Location_Type_Tier 1                      -0.502066   \n",
       "Outlet_Location_Type_Tier 2                      -0.560639   \n",
       "Outlet_Location_Type_Tier 3                       1.000000   \n",
       "Outlet_Type_Grocery Store                         0.093276   \n",
       "Outlet_Type_Supermarket Type1                    -0.636465   \n",
       "Outlet_Type_Supermarket Type2                     0.434369   \n",
       "Outlet_Type_Supermarket Type3                     0.436205   \n",
       "codes_DR                                         -0.008283   \n",
       "codes_FD                                         -0.001312   \n",
       "codes_NC                                          0.007695   \n",
       "Item_Outlet_Sales                                 0.046376   \n",
       "\n",
       "                               Outlet_Type_Grocery Store  \\\n",
       "Item_Weight                                    -0.004778   \n",
       "Item_Visibility                                 0.299205   \n",
       "Item_MRP                                       -0.004277   \n",
       "Outlet_Age                                      0.281196   \n",
       "Item_Fat_Content_Low Fat                        0.002924   \n",
       "Item_Fat_Content_Regular                       -0.002924   \n",
       "Outlet_Size_High                               -0.133686   \n",
       "Outlet_Size_Medium                             -0.266370   \n",
       "Outlet_Size_Small                               0.176158   \n",
       "Outlet_Size_unknown                             0.194602   \n",
       "Outlet_Location_Type_Tier 1                     0.176158   \n",
       "Outlet_Location_Type_Tier 2                    -0.265803   \n",
       "Outlet_Location_Type_Tier 3                     0.093276   \n",
       "Outlet_Type_Grocery Store                       1.000000   \n",
       "Outlet_Type_Supermarket Type1                  -0.524942   \n",
       "Outlet_Type_Supermarket Type2                  -0.133364   \n",
       "Outlet_Type_Supermarket Type3                  -0.133928   \n",
       "codes_DR                                       -0.003055   \n",
       "codes_FD                                       -0.005712   \n",
       "codes_NC                                        0.008860   \n",
       "Item_Outlet_Sales                              -0.411727   \n",
       "\n",
       "                               Outlet_Type_Supermarket Type1  \\\n",
       "Item_Weight                                         0.011747   \n",
       "Item_Visibility                                    -0.152831   \n",
       "Item_MRP                                            0.004885   \n",
       "Outlet_Age                                         -0.245070   \n",
       "Item_Fat_Content_Low Fat                           -0.000533   \n",
       "Item_Fat_Content_Regular                            0.000533   \n",
       "Outlet_Size_High                                    0.254668   \n",
       "Outlet_Size_Medium                                 -0.471782   \n",
       "Outlet_Size_Small                                   0.163388   \n",
       "Outlet_Size_unknown                                 0.152308   \n",
       "Outlet_Location_Type_Tier 1                         0.163388   \n",
       "Outlet_Location_Type_Tier 2                         0.506347   \n",
       "Outlet_Location_Type_Tier 3                        -0.636465   \n",
       "Outlet_Type_Grocery Store                          -0.524942   \n",
       "Outlet_Type_Supermarket Type1                       1.000000   \n",
       "Outlet_Type_Supermarket Type2                      -0.480943   \n",
       "Outlet_Type_Supermarket Type3                      -0.482977   \n",
       "codes_DR                                            0.011999   \n",
       "codes_FD                                           -0.003772   \n",
       "codes_NC                                           -0.004614   \n",
       "Item_Outlet_Sales                                   0.108765   \n",
       "\n",
       "                               Outlet_Type_Supermarket Type2  \\\n",
       "Item_Weight                                         0.004956   \n",
       "Item_Visibility                                    -0.033374   \n",
       "Item_MRP                                            0.003850   \n",
       "Outlet_Age                                         -0.466336   \n",
       "Item_Fat_Content_Low Fat                           -0.002129   \n",
       "Item_Fat_Content_Regular                            0.002129   \n",
       "Outlet_Size_High                                   -0.122481   \n",
       "Outlet_Size_Medium                                  0.500670   \n",
       "Outlet_Size_Small                                  -0.218082   \n",
       "Outlet_Size_unknown                                -0.219478   \n",
       "Outlet_Location_Type_Tier 1                        -0.218082   \n",
       "Outlet_Location_Type_Tier 2                        -0.243524   \n",
       "Outlet_Location_Type_Tier 3                         0.434369   \n",
       "Outlet_Type_Grocery Store                          -0.133364   \n",
       "Outlet_Type_Supermarket Type1                      -0.480943   \n",
       "Outlet_Type_Supermarket Type2                       1.000000   \n",
       "Outlet_Type_Supermarket Type3                      -0.122702   \n",
       "codes_DR                                           -0.003872   \n",
       "codes_FD                                            0.003433   \n",
       "codes_NC                                           -0.001063   \n",
       "Item_Outlet_Sales                                  -0.038059   \n",
       "\n",
       "                               Outlet_Type_Supermarket Type3  codes_DR  \\\n",
       "Item_Weight                                        -0.017723 -0.050156   \n",
       "Item_Visibility                                    -0.053023 -0.012531   \n",
       "Item_MRP                                           -0.006714 -0.051733   \n",
       "Outlet_Age                                          0.538072 -0.009441   \n",
       "Item_Fat_Content_Low Fat                           -0.000183  0.177593   \n",
       "Item_Fat_Content_Regular                            0.000183 -0.177593   \n",
       "Outlet_Size_High                                   -0.122999 -0.000479   \n",
       "Outlet_Size_Medium                                  0.502787 -0.005003   \n",
       "Outlet_Size_Small                                  -0.219004 -0.003465   \n",
       "Outlet_Size_unknown                                -0.220406  0.009002   \n",
       "Outlet_Location_Type_Tier 1                        -0.219004  0.001016   \n",
       "Outlet_Location_Type_Tier 2                        -0.244554  0.007652   \n",
       "Outlet_Location_Type_Tier 3                         0.436205 -0.008283   \n",
       "Outlet_Type_Grocery Store                          -0.133928 -0.003055   \n",
       "Outlet_Type_Supermarket Type1                      -0.482977  0.011999   \n",
       "Outlet_Type_Supermarket Type2                      -0.122702 -0.003872   \n",
       "Outlet_Type_Supermarket Type3                       1.000000 -0.011145   \n",
       "codes_DR                                           -0.011145  1.000000   \n",
       "codes_FD                                            0.008406 -0.514021   \n",
       "codes_NC                                           -0.001361 -0.154560   \n",
       "Item_Outlet_Sales                                   0.311192 -0.034672   \n",
       "\n",
       "                               codes_FD  codes_NC  Item_Outlet_Sales  \n",
       "Item_Weight                   -0.008183  0.046872           0.009693  \n",
       "Item_Visibility                0.068443 -0.069477          -0.134097  \n",
       "Item_MRP                       0.029315  0.004859           0.567574  \n",
       "Outlet_Age                     0.002312  0.004385           0.049135  \n",
       "Item_Fat_Content_Low Fat      -0.423092  0.354722          -0.018719  \n",
       "Item_Fat_Content_Regular       0.423092 -0.354722           0.018719  \n",
       "Outlet_Size_High              -0.003993  0.004957           0.024170  \n",
       "Outlet_Size_Medium             0.010467 -0.008320           0.204701  \n",
       "Outlet_Size_Small              0.002254 -0.000008          -0.098403  \n",
       "Outlet_Size_unknown           -0.010389  0.005245          -0.131973  \n",
       "Outlet_Location_Type_Tier 1    0.001673 -0.002685          -0.111287  \n",
       "Outlet_Location_Type_Tier 2   -0.000235 -0.005443           0.058261  \n",
       "Outlet_Location_Type_Tier 3   -0.001312  0.007695           0.046376  \n",
       "Outlet_Type_Grocery Store     -0.005712  0.008860          -0.411727  \n",
       "Outlet_Type_Supermarket Type1 -0.003772 -0.004614           0.108765  \n",
       "Outlet_Type_Supermarket Type2  0.003433 -0.001063          -0.038059  \n",
       "Outlet_Type_Supermarket Type3  0.008406 -0.001361           0.311192  \n",
       "codes_DR                      -0.514021 -0.154560          -0.034672  \n",
       "codes_FD                       1.000000 -0.768023           0.031905  \n",
       "codes_NC                      -0.768023  1.000000          -0.010861  \n",
       "Item_Outlet_Sales              0.031905 -0.010861           1.000000  \n",
       "\n",
       "[21 rows x 21 columns]"
      ]
     },
     "execution_count": 99,
     "metadata": {},
     "output_type": "execute_result"
    }
   ],
   "source": [
    "bigmarttraindf.corr()"
   ]
  },
  {
   "cell_type": "code",
   "execution_count": 100,
   "metadata": {},
   "outputs": [
    {
     "data": {
      "text/plain": [
       "[<matplotlib.lines.Line2D at 0x1bf8cefaee0>]"
      ]
     },
     "execution_count": 100,
     "metadata": {},
     "output_type": "execute_result"
    },
    {
     "data": {
      "image/png": "[encoded data removed]",
      "text/plain": [
       "<Figure size 432x288 with 1 Axes>"
      ]
     },
     "metadata": {
      "needs_background": "light"
     },
     "output_type": "display_data"
    }
   ],
   "source": [
    "plt.plot(np.square(y_pred), bigmarttrain.Item_Outlet_Sales, 'b.')"
   ]
  },
  {
   "cell_type": "code",
   "execution_count": 101,
   "metadata": {},
   "outputs": [],
   "source": [
    "result = LinRegmodel.predict(bigmarttestdf)"
   ]
  },
  {
   "cell_type": "code",
   "execution_count": 102,
   "metadata": {},
   "outputs": [
    {
     "data": {
      "text/plain": [
       "array([1637.39064529, 1408.2488789 , 1137.023985  , ..., 1635.07401285,\n",
       "       3428.91396906, 1185.53211052])"
      ]
     },
     "execution_count": 102,
     "metadata": {},
     "output_type": "execute_result"
    }
   ],
   "source": [
    "np.square(result)"
   ]
  },
  {
   "cell_type": "code",
   "execution_count": 103,
   "metadata": {},
   "outputs": [],
   "source": [
    "result = pd.Series(result)"
   ]
  },
  {
   "cell_type": "code",
   "execution_count": 104,
   "metadata": {},
   "outputs": [],
   "source": [
    "X = bigmarttraindf.drop('Item_Outlet_Sales', axis = 1)\n",
    "from sklearn.preprocessing import RobustScaler\n",
    "robust = RobustScaler()\n",
    "Xlabels = X.columns"
   ]
  },
  {
   "cell_type": "code",
   "execution_count": 105,
   "metadata": {},
   "outputs": [],
   "source": [
    "X_scaled = robust.fit_transform(X)"
   ]
  },
  {
   "cell_type": "code",
   "execution_count": 106,
   "metadata": {},
   "outputs": [],
   "source": [
    "X_scaled = pd.DataFrame(X_scaled, columns = Xlabels)\n",
    "y = target"
   ]
  },
  {
   "cell_type": "code",
   "execution_count": 107,
   "metadata": {},
   "outputs": [],
   "source": [
    "Linregscaled = LinReg.fit(X_scaled,y)"
   ]
  },
  {
   "cell_type": "code",
   "execution_count": 108,
   "metadata": {},
   "outputs": [
    {
     "data": {
      "text/plain": [
       "0.656280986991133"
      ]
     },
     "execution_count": 108,
     "metadata": {},
     "output_type": "execute_result"
    }
   ],
   "source": [
    "Linregscaled.score(X_scaled,y)"
   ]
  },
  {
   "cell_type": "code",
   "execution_count": 109,
   "metadata": {},
   "outputs": [],
   "source": [
    "Linregscaled_predict = Linregscaled.predict(X)"
   ]
  },
  {
   "cell_type": "code",
   "execution_count": 110,
   "metadata": {},
   "outputs": [
    {
     "data": {
      "text/plain": [
       "1096.923892120909"
      ]
     },
     "execution_count": 110,
     "metadata": {},
     "output_type": "execute_result"
    }
   ],
   "source": [
    "from sklearn.metrics import mean_squared_error\n",
    "rmse = np.sqrt(mean_squared_error(np.square(y_pred), np.square(y)))\n",
    "rmse"
   ]
  },
  {
   "cell_type": "code",
   "execution_count": 124,
   "metadata": {},
   "outputs": [],
   "source": [
    "X = bigmarttestdf\n",
    "Xlabels = X.columns\n",
    "X_scaled = robust.fit_transform(X)\n",
    "X_scaled = pd.DataFrame(X_scaled, columns = Xlabels)\n",
    "pred_result = Linregscaled.predict(X_scaled)"
   ]
  },
  {
   "cell_type": "code",
   "execution_count": 116,
   "metadata": {},
   "outputs": [
    {
     "data": {
      "text/plain": [
       "array([40.71921086, 37.77289103, 34.01989782, ..., 40.69230424,\n",
       "       58.84893738, 34.67225843])"
      ]
     },
     "execution_count": 116,
     "metadata": {},
     "output_type": "execute_result"
    }
   ],
   "source": [
    "pred_result"
   ]
  },
  {
   "cell_type": "code",
   "execution_count": 117,
   "metadata": {},
   "outputs": [],
   "source": [
    "pred_result = np.square(pred_result)"
   ]
  },
  {
   "cell_type": "code",
   "execution_count": 118,
   "metadata": {},
   "outputs": [],
   "source": [
    "pred_result = pd.Series(pred_result)"
   ]
  },
  {
   "cell_type": "code",
   "execution_count": 119,
   "metadata": {},
   "outputs": [],
   "source": [
    "pred_result.to_csv('Bigmartresult.csv')"
   ]
  },
  {
   "cell_type": "code",
   "execution_count": 111,
   "metadata": {},
   "outputs": [],
   "source": [
    "from xgboost import XGBRegressor\n",
    "xgb_reg = XGBRegressor(learning_rate=1.0, max_depth=6, min_child_weight=40, seed=0)\n",
    "xgb_model = xgb_reg.fit(X_scaled,y)"
   ]
  },
  {
   "cell_type": "code",
   "execution_count": 112,
   "metadata": {},
   "outputs": [
    {
     "name": "stderr",
     "output_type": "stream",
     "text": [
      "D:\\anaconda3\\lib\\site-packages\\xgboost\\data.py:112: UserWarning: Use subset (sliced data) of np.ndarray is not recommended because it will generate extra copies and increase memory consumption\n",
      "  warnings.warn(\n"
     ]
    },
    {
     "data": {
      "text/plain": [
       "750.0490589959951"
      ]
     },
     "execution_count": 112,
     "metadata": {},
     "output_type": "execute_result"
    }
   ],
   "source": [
    "y_pred = xgb_reg.predict(X_scaled)\n",
    "rmse = np.sqrt(mean_squared_error(np.square(y_pred), np.square(y)))\n",
    "rmse"
   ]
  },
  {
   "cell_type": "code",
   "execution_count": 125,
   "metadata": {},
   "outputs": [
    {
     "name": "stderr",
     "output_type": "stream",
     "text": [
      "D:\\anaconda3\\lib\\site-packages\\xgboost\\data.py:112: UserWarning: Use subset (sliced data) of np.ndarray is not recommended because it will generate extra copies and increase memory consumption\n",
      "  warnings.warn(\n"
     ]
    }
   ],
   "source": [
    "testdata = bigmarttestdf\n",
    "testlabels = testdata.columns\n",
    "testdata = robust.transform(testdata)\n",
    "testdata = pd.DataFrame(testdata, columns = testlabels)\n",
    "y_result = xgb_model.predict(testdata)"
   ]
  },
  {
   "cell_type": "code",
   "execution_count": 126,
   "metadata": {},
   "outputs": [],
   "source": [
    "y_result = np.square(y_result)"
   ]
  },
  {
   "cell_type": "code",
   "execution_count": 127,
   "metadata": {},
   "outputs": [],
   "source": [
    "y_result = pd.Series(y_result)"
   ]
  },
  {
   "cell_type": "code",
   "execution_count": 122,
   "metadata": {},
   "outputs": [],
   "source": [
    "y_result.to_csv(\"XGB.csv\")"
   ]
  },
  {
   "cell_type": "code",
   "execution_count": 128,
   "metadata": {},
   "outputs": [
    {
     "data": {
      "text/plain": [
       "0       2142.919678\n",
       "1       1472.128540\n",
       "2        543.917725\n",
       "3       2277.778564\n",
       "4       5231.420410\n",
       "           ...     \n",
       "5676    1724.713867\n",
       "5677    3424.060547\n",
       "5678    1769.828369\n",
       "5679    5255.697754\n",
       "5680    1454.202148\n",
       "Length: 5681, dtype: float32"
      ]
     },
     "execution_count": 128,
     "metadata": {},
     "output_type": "execute_result"
    }
   ],
   "source": [
    "y_result"
   ]
  },
  {
   "cell_type": "code",
   "execution_count": null,
   "metadata": {},
   "outputs": [],
   "source": [
    "#Linear Regression model gives least RMSE Compared to Xgboost"
   ]
  }
 ],
 "metadata": {
  "kernelspec": {
   "display_name": "Python 3",
   "language": "python",
   "name": "python3"
  },
  "language_info": {
   "codemirror_mode": {
    "name": "ipython",
    "version": 3
   },
   "file_extension": ".py",
   "mimetype": "text/x-python",
   "name": "python",
   "nbconvert_exporter": "python",
   "pygments_lexer": "ipython3",
   "version": "3.8.3"
  }
 },
 "nbformat": 4,
 "nbformat_minor": 4
}
